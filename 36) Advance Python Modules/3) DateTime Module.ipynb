{
 "cells": [
  {
   "cell_type": "markdown",
   "id": "8a3a7ac0",
   "metadata": {},
   "source": [
    "# datetime module\n",
    "\n",
    "Python has the datetime module to help deal with timestamps in your code. Time values are represented with the time class. Times have attributes for hour, minute, second, and microsecond. They can also include time zone information. The arguments to initialize a time instance are optional, but the default of 0 is unlikely to be what you want."
   ]
  },
  {
   "cell_type": "code",
   "execution_count": null,
   "id": "ff5b8822",
   "metadata": {},
   "outputs": [],
   "source": []
  },
  {
   "cell_type": "markdown",
   "id": "c0fa38e6",
   "metadata": {},
   "source": [
    "## time\n",
    "Let's take a look at how we can extract time information from the datetime module. We can create a timestamp by specifying datetime.time(hour,minute,second,microsecond)"
   ]
  },
  {
   "cell_type": "code",
   "execution_count": 1,
   "id": "e2fcaf00",
   "metadata": {},
   "outputs": [],
   "source": [
    "from datetime import time"
   ]
  },
  {
   "cell_type": "code",
   "execution_count": 3,
   "id": "41457613",
   "metadata": {},
   "outputs": [],
   "source": [
    "time1 = time(10,55,21)"
   ]
  },
  {
   "cell_type": "code",
   "execution_count": 4,
   "id": "ab11439f",
   "metadata": {},
   "outputs": [
    {
     "data": {
      "text/plain": [
       "datetime.time(10, 55, 21)"
      ]
     },
     "execution_count": 4,
     "metadata": {},
     "output_type": "execute_result"
    }
   ],
   "source": [
    "time1"
   ]
  },
  {
   "cell_type": "code",
   "execution_count": 5,
   "id": "a2e070f2",
   "metadata": {},
   "outputs": [
    {
     "data": {
      "text/plain": [
       "datetime.time"
      ]
     },
     "execution_count": 5,
     "metadata": {},
     "output_type": "execute_result"
    }
   ],
   "source": [
    "type(time1)"
   ]
  },
  {
   "cell_type": "code",
   "execution_count": 6,
   "id": "dd6e3e16",
   "metadata": {},
   "outputs": [
    {
     "data": {
      "text/plain": [
       "10"
      ]
     },
     "execution_count": 6,
     "metadata": {},
     "output_type": "execute_result"
    }
   ],
   "source": [
    "time1.hour"
   ]
  },
  {
   "cell_type": "code",
   "execution_count": 9,
   "id": "18af34b4",
   "metadata": {},
   "outputs": [
    {
     "data": {
      "text/plain": [
       "55"
      ]
     },
     "execution_count": 9,
     "metadata": {},
     "output_type": "execute_result"
    }
   ],
   "source": [
    "time1.minute"
   ]
  },
  {
   "cell_type": "code",
   "execution_count": 10,
   "id": "93b70fc0",
   "metadata": {},
   "outputs": [
    {
     "data": {
      "text/plain": [
       "21"
      ]
     },
     "execution_count": 10,
     "metadata": {},
     "output_type": "execute_result"
    }
   ],
   "source": [
    "time1.second"
   ]
  },
  {
   "cell_type": "code",
   "execution_count": null,
   "id": "5bedc3a8",
   "metadata": {},
   "outputs": [],
   "source": []
  },
  {
   "cell_type": "markdown",
   "id": "e4aacca4",
   "metadata": {},
   "source": [
    "Note: A time instance only holds values of time, and not a date associated with the time. \n",
    "\n",
    "We can also check the min and max values a time of day can have in the module:"
   ]
  },
  {
   "cell_type": "code",
   "execution_count": 13,
   "id": "f9d534ea",
   "metadata": {},
   "outputs": [
    {
     "name": "stdout",
     "output_type": "stream",
     "text": [
      "Earliest  : 00:00:00\n",
      "Latest    : 23:59:59.999999\n",
      "Resolution: 0:00:00.000001\n"
     ]
    }
   ],
   "source": [
    "print('Earliest  :', time.min)\n",
    "print('Latest    :', time.max)\n",
    "print('Resolution:', time.resolution)"
   ]
  },
  {
   "cell_type": "code",
   "execution_count": null,
   "id": "8c06d859",
   "metadata": {},
   "outputs": [],
   "source": []
  },
  {
   "cell_type": "markdown",
   "id": "bc6fe013",
   "metadata": {},
   "source": [
    "## Dates\n",
    "datetime (as you might suspect) also allows us to work with date timestamps. Calendar date values are represented with the date class. Instances have attributes for year, month, and day. It is easy to create a date representing today’s date using the today() class method."
   ]
  },
  {
   "cell_type": "code",
   "execution_count": 14,
   "id": "827f863f",
   "metadata": {},
   "outputs": [],
   "source": [
    "from datetime import date"
   ]
  },
  {
   "cell_type": "code",
   "execution_count": 15,
   "id": "83157896",
   "metadata": {},
   "outputs": [],
   "source": [
    "today = date.today()"
   ]
  },
  {
   "cell_type": "code",
   "execution_count": 16,
   "id": "9085419e",
   "metadata": {},
   "outputs": [
    {
     "data": {
      "text/plain": [
       "datetime.date(2023, 4, 14)"
      ]
     },
     "execution_count": 16,
     "metadata": {},
     "output_type": "execute_result"
    }
   ],
   "source": [
    "today"
   ]
  },
  {
   "cell_type": "code",
   "execution_count": 17,
   "id": "8d145c58",
   "metadata": {},
   "outputs": [
    {
     "name": "stdout",
     "output_type": "stream",
     "text": [
      "2023-04-14\n"
     ]
    }
   ],
   "source": [
    "print(today)"
   ]
  },
  {
   "cell_type": "code",
   "execution_count": 18,
   "id": "bb542abc",
   "metadata": {},
   "outputs": [
    {
     "data": {
      "text/plain": [
       "14"
      ]
     },
     "execution_count": 18,
     "metadata": {},
     "output_type": "execute_result"
    }
   ],
   "source": [
    "today.day"
   ]
  },
  {
   "cell_type": "code",
   "execution_count": 19,
   "id": "a2139916",
   "metadata": {},
   "outputs": [
    {
     "data": {
      "text/plain": [
       "4"
      ]
     },
     "execution_count": 19,
     "metadata": {},
     "output_type": "execute_result"
    }
   ],
   "source": [
    "today.month"
   ]
  },
  {
   "cell_type": "code",
   "execution_count": 20,
   "id": "506855db",
   "metadata": {},
   "outputs": [
    {
     "data": {
      "text/plain": [
       "2023"
      ]
     },
     "execution_count": 20,
     "metadata": {},
     "output_type": "execute_result"
    }
   ],
   "source": [
    "today.year"
   ]
  },
  {
   "cell_type": "code",
   "execution_count": 21,
   "id": "0327d0be",
   "metadata": {},
   "outputs": [
    {
     "data": {
      "text/plain": [
       "'Fri Apr 14 00:00:00 2023'"
      ]
     },
     "execution_count": 21,
     "metadata": {},
     "output_type": "execute_result"
    }
   ],
   "source": [
    "today.ctime()"
   ]
  },
  {
   "cell_type": "code",
   "execution_count": 22,
   "id": "6906085b",
   "metadata": {},
   "outputs": [
    {
     "data": {
      "text/plain": [
       "time.struct_time(tm_year=2023, tm_mon=4, tm_mday=14, tm_hour=0, tm_min=0, tm_sec=0, tm_wday=4, tm_yday=104, tm_isdst=-1)"
      ]
     },
     "execution_count": 22,
     "metadata": {},
     "output_type": "execute_result"
    }
   ],
   "source": [
    "today.timetuple()"
   ]
  },
  {
   "cell_type": "code",
   "execution_count": 23,
   "id": "35d3e17e",
   "metadata": {},
   "outputs": [
    {
     "data": {
      "text/plain": [
       "738624"
      ]
     },
     "execution_count": 23,
     "metadata": {},
     "output_type": "execute_result"
    }
   ],
   "source": [
    "today.toordinal()"
   ]
  },
  {
   "cell_type": "code",
   "execution_count": null,
   "id": "eb929416",
   "metadata": {},
   "outputs": [],
   "source": []
  },
  {
   "cell_type": "markdown",
   "id": "82b5a53f",
   "metadata": {},
   "source": [
    "As with time, the range of date values supported can be determined using the min and max attributes."
   ]
  },
  {
   "cell_type": "code",
   "execution_count": 24,
   "id": "52c6713d",
   "metadata": {},
   "outputs": [
    {
     "name": "stdout",
     "output_type": "stream",
     "text": [
      "Earliest  : 0001-01-01\n",
      "Latest    : 9999-12-31\n",
      "Resolution: 1 day, 0:00:00\n"
     ]
    }
   ],
   "source": [
    "print('Earliest  :', date.min)\n",
    "print('Latest    :', date.max)\n",
    "print('Resolution:', date.resolution)"
   ]
  },
  {
   "cell_type": "code",
   "execution_count": null,
   "id": "281814f5",
   "metadata": {},
   "outputs": [],
   "source": []
  },
  {
   "cell_type": "markdown",
   "id": "f6d3d68e",
   "metadata": {},
   "source": [
    "Another way to create new date instances uses the replace() method of an existing date. For example, you can change the year, leaving the day and month alone."
   ]
  },
  {
   "cell_type": "code",
   "execution_count": 25,
   "id": "ebccf88f",
   "metadata": {},
   "outputs": [
    {
     "name": "stdout",
     "output_type": "stream",
     "text": [
      "d1: 2015-03-11\n",
      "d2: 1990-03-11\n"
     ]
    }
   ],
   "source": [
    "d1 = date(2015, 3, 11)\n",
    "print('d1:', d1)\n",
    "\n",
    "d2 = d1.replace(year=1990)\n",
    "print('d2:', d2)"
   ]
  },
  {
   "cell_type": "code",
   "execution_count": null,
   "id": "af170f36",
   "metadata": {},
   "outputs": [],
   "source": []
  },
  {
   "cell_type": "markdown",
   "id": "5c19d904",
   "metadata": {},
   "source": [
    "# Arithmetic\n",
    "We can perform arithmetic on date objects to check for time differences. For example:"
   ]
  },
  {
   "cell_type": "code",
   "execution_count": 26,
   "id": "7ad5a905",
   "metadata": {},
   "outputs": [
    {
     "data": {
      "text/plain": [
       "datetime.date(2015, 3, 11)"
      ]
     },
     "execution_count": 26,
     "metadata": {},
     "output_type": "execute_result"
    }
   ],
   "source": [
    "d1"
   ]
  },
  {
   "cell_type": "code",
   "execution_count": 27,
   "id": "b2ab9d18",
   "metadata": {},
   "outputs": [
    {
     "data": {
      "text/plain": [
       "datetime.date(1990, 3, 11)"
      ]
     },
     "execution_count": 27,
     "metadata": {},
     "output_type": "execute_result"
    }
   ],
   "source": [
    "d2"
   ]
  },
  {
   "cell_type": "code",
   "execution_count": 28,
   "id": "328cb4e3",
   "metadata": {},
   "outputs": [
    {
     "data": {
      "text/plain": [
       "datetime.timedelta(days=9131)"
      ]
     },
     "execution_count": 28,
     "metadata": {},
     "output_type": "execute_result"
    }
   ],
   "source": [
    "d1 - d2"
   ]
  },
  {
   "cell_type": "markdown",
   "id": "c2ac93c9",
   "metadata": {},
   "source": [
    "This gives us the difference in days between the two dates. You can use the timedelta method to specify various units of times (days, minutes, hours, etc.)"
   ]
  },
  {
   "cell_type": "code",
   "execution_count": null,
   "id": "acc82ba2",
   "metadata": {},
   "outputs": [],
   "source": []
  },
  {
   "cell_type": "markdown",
   "id": "d619c7dd",
   "metadata": {},
   "source": [
    "## DateTime"
   ]
  },
  {
   "cell_type": "code",
   "execution_count": 29,
   "id": "bac38b25",
   "metadata": {},
   "outputs": [],
   "source": [
    "from datetime import datetime"
   ]
  },
  {
   "cell_type": "code",
   "execution_count": 33,
   "id": "ae0a66db",
   "metadata": {},
   "outputs": [],
   "source": [
    "dt1 = datetime(year= 2023, month= 12, day= 3)"
   ]
  },
  {
   "cell_type": "code",
   "execution_count": 34,
   "id": "0a07def0",
   "metadata": {},
   "outputs": [
    {
     "data": {
      "text/plain": [
       "datetime.datetime(2023, 12, 3, 0, 0)"
      ]
     },
     "execution_count": 34,
     "metadata": {},
     "output_type": "execute_result"
    }
   ],
   "source": [
    "dt1"
   ]
  },
  {
   "cell_type": "code",
   "execution_count": 35,
   "id": "bac33e58",
   "metadata": {},
   "outputs": [
    {
     "data": {
      "text/plain": [
       "0"
      ]
     },
     "execution_count": 35,
     "metadata": {},
     "output_type": "execute_result"
    }
   ],
   "source": [
    "dt1.hour"
   ]
  },
  {
   "cell_type": "code",
   "execution_count": 36,
   "id": "65219479",
   "metadata": {},
   "outputs": [
    {
     "data": {
      "text/plain": [
       "3"
      ]
     },
     "execution_count": 36,
     "metadata": {},
     "output_type": "execute_result"
    }
   ],
   "source": [
    "dt1.day"
   ]
  },
  {
   "cell_type": "code",
   "execution_count": 37,
   "id": "0cc2f8e1",
   "metadata": {},
   "outputs": [
    {
     "data": {
      "text/plain": [
       "12"
      ]
     },
     "execution_count": 37,
     "metadata": {},
     "output_type": "execute_result"
    }
   ],
   "source": [
    "dt1.month"
   ]
  },
  {
   "cell_type": "code",
   "execution_count": null,
   "id": "ec9ac78b",
   "metadata": {},
   "outputs": [],
   "source": []
  },
  {
   "cell_type": "code",
   "execution_count": 38,
   "id": "86d7ad7d",
   "metadata": {},
   "outputs": [],
   "source": [
    "dt2= datetime(year= 2023, month= 12, day= 3, hour= 13, minute= 24, second= 12)"
   ]
  },
  {
   "cell_type": "code",
   "execution_count": 39,
   "id": "04e42375",
   "metadata": {},
   "outputs": [
    {
     "data": {
      "text/plain": [
       "datetime.datetime(2023, 12, 3, 13, 24, 12)"
      ]
     },
     "execution_count": 39,
     "metadata": {},
     "output_type": "execute_result"
    }
   ],
   "source": [
    "dt2"
   ]
  },
  {
   "cell_type": "code",
   "execution_count": 40,
   "id": "612a17f6",
   "metadata": {},
   "outputs": [
    {
     "data": {
      "text/plain": [
       "12"
      ]
     },
     "execution_count": 40,
     "metadata": {},
     "output_type": "execute_result"
    }
   ],
   "source": [
    "dt2.second"
   ]
  },
  {
   "cell_type": "code",
   "execution_count": 41,
   "id": "d8fe2ab0",
   "metadata": {},
   "outputs": [
    {
     "data": {
      "text/plain": [
       "0"
      ]
     },
     "execution_count": 41,
     "metadata": {},
     "output_type": "execute_result"
    }
   ],
   "source": [
    "dt2.microsecond"
   ]
  },
  {
   "cell_type": "code",
   "execution_count": null,
   "id": "7fde36f3",
   "metadata": {},
   "outputs": [],
   "source": []
  },
  {
   "cell_type": "markdown",
   "id": "87adf5b7",
   "metadata": {},
   "source": [
    "### Arithmatic"
   ]
  },
  {
   "cell_type": "code",
   "execution_count": 42,
   "id": "1e0e22fd",
   "metadata": {},
   "outputs": [],
   "source": [
    "bday = datetime(1992, 2, 1, 15, 30, 30)"
   ]
  },
  {
   "cell_type": "code",
   "execution_count": 43,
   "id": "a6edac0c",
   "metadata": {},
   "outputs": [],
   "source": [
    "today = datetime.today()"
   ]
  },
  {
   "cell_type": "code",
   "execution_count": 44,
   "id": "c8f4a4a0",
   "metadata": {},
   "outputs": [
    {
     "data": {
      "text/plain": [
       "datetime.datetime(2023, 4, 14, 18, 35, 23, 807446)"
      ]
     },
     "execution_count": 44,
     "metadata": {},
     "output_type": "execute_result"
    }
   ],
   "source": [
    "today"
   ]
  },
  {
   "cell_type": "code",
   "execution_count": 45,
   "id": "77e8992e",
   "metadata": {},
   "outputs": [
    {
     "data": {
      "text/plain": [
       "datetime.datetime(1992, 2, 1, 15, 30, 30)"
      ]
     },
     "execution_count": 45,
     "metadata": {},
     "output_type": "execute_result"
    }
   ],
   "source": [
    "bday"
   ]
  },
  {
   "cell_type": "code",
   "execution_count": null,
   "id": "4d974320",
   "metadata": {},
   "outputs": [],
   "source": []
  },
  {
   "cell_type": "code",
   "execution_count": 46,
   "id": "d9733092",
   "metadata": {},
   "outputs": [],
   "source": [
    "age = today - bday"
   ]
  },
  {
   "cell_type": "code",
   "execution_count": 47,
   "id": "facaca72",
   "metadata": {},
   "outputs": [
    {
     "data": {
      "text/plain": [
       "datetime.timedelta(days=11395, seconds=11093, microseconds=807446)"
      ]
     },
     "execution_count": 47,
     "metadata": {},
     "output_type": "execute_result"
    }
   ],
   "source": [
    "age"
   ]
  },
  {
   "cell_type": "code",
   "execution_count": 48,
   "id": "ef30abc9",
   "metadata": {},
   "outputs": [
    {
     "data": {
      "text/plain": [
       "11395"
      ]
     },
     "execution_count": 48,
     "metadata": {},
     "output_type": "execute_result"
    }
   ],
   "source": [
    "age.days"
   ]
  },
  {
   "cell_type": "code",
   "execution_count": 51,
   "id": "5a50fc6d",
   "metadata": {},
   "outputs": [
    {
     "data": {
      "text/plain": [
       "984539093.807446"
      ]
     },
     "execution_count": 51,
     "metadata": {},
     "output_type": "execute_result"
    }
   ],
   "source": [
    "age.total_seconds()"
   ]
  }
 ],
 "metadata": {
  "kernelspec": {
   "display_name": "Python 3 (ipykernel)",
   "language": "python",
   "name": "python3"
  },
  "language_info": {
   "codemirror_mode": {
    "name": "ipython",
    "version": 3
   },
   "file_extension": ".py",
   "mimetype": "text/x-python",
   "name": "python",
   "nbconvert_exporter": "python",
   "pygments_lexer": "ipython3",
   "version": "3.8.12"
  }
 },
 "nbformat": 4,
 "nbformat_minor": 5
}
