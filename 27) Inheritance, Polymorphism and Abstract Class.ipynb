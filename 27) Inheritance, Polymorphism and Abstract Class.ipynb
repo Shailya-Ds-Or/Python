{
 "cells": [
  {
   "cell_type": "markdown",
   "id": "acfcccd0",
   "metadata": {},
   "source": [
    "## Inheritance\n",
    "Inheritance is a way to form new classes using classes that have already been defined. The newly formed classes are called derived classes, the classes that we derive from are called base classes. Important benefits of inheritance are code reuse and reduction of complexity of a program. The derived classes (descendants) override or extend the functionality of base classes (ancestors)."
   ]
  },
  {
   "cell_type": "markdown",
   "id": "64233c5d",
   "metadata": {},
   "source": [
    "## Polymorphism\n",
    "We've learned that while functions can take in different arguments, methods belong to the objects they act on. In Python, polymorphism refers to the way in which different object classes can share the same method name, and those methods can be called from the same place even though a variety of different objects might be passed in."
   ]
  },
  {
   "cell_type": "markdown",
   "id": "c0e517fb",
   "metadata": {},
   "source": [
    "#### Example:"
   ]
  },
  {
   "cell_type": "code",
   "execution_count": 1,
   "id": "2704568d",
   "metadata": {},
   "outputs": [],
   "source": [
    "class Animal():\n",
    "    \n",
    "    def __init__(self):\n",
    "        print(\"Animal Created.\")\n",
    "        \n",
    "    def who_am_i(self):\n",
    "        print(\"Animal\")\n",
    "        \n",
    "    def eat(self):\n",
    "        print(\"Eating\")"
   ]
  },
  {
   "cell_type": "code",
   "execution_count": 2,
   "id": "a47c5d45",
   "metadata": {},
   "outputs": [],
   "source": [
    "class Dog(Animal):\n",
    "    \n",
    "    def __init__(self):\n",
    "        Animal.__init__(self)\n",
    "        print(\"Dog Created\")\n",
    "        \n",
    "    def who_am_i(self):\n",
    "        print(\"Dog\")\n",
    "        \n",
    "    def voice(self):\n",
    "        print(\"Woof!!\")"
   ]
  },
  {
   "cell_type": "code",
   "execution_count": 3,
   "id": "8d074240",
   "metadata": {},
   "outputs": [],
   "source": [
    "class Cat(Animal):\n",
    "    \n",
    "    def __init__(self):\n",
    "        Animal.__init__(self)\n",
    "        print(\"Cat Created\")\n",
    "        \n",
    "    def who_am_i(self):\n",
    "        print(\"Cat\")\n",
    "        \n",
    "    def voice(self):\n",
    "        print(\"Meow!!\")"
   ]
  },
  {
   "cell_type": "code",
   "execution_count": null,
   "id": "917d3dd2",
   "metadata": {},
   "outputs": [],
   "source": []
  },
  {
   "cell_type": "code",
   "execution_count": 4,
   "id": "d36ee5a2",
   "metadata": {},
   "outputs": [
    {
     "name": "stdout",
     "output_type": "stream",
     "text": [
      "Animal Created.\n"
     ]
    }
   ],
   "source": [
    "a = Animal()"
   ]
  },
  {
   "cell_type": "code",
   "execution_count": 5,
   "id": "c9818297",
   "metadata": {},
   "outputs": [
    {
     "name": "stdout",
     "output_type": "stream",
     "text": [
      "Eating\n"
     ]
    }
   ],
   "source": [
    "a.eat()"
   ]
  },
  {
   "cell_type": "code",
   "execution_count": 6,
   "id": "d4a0c3e7",
   "metadata": {},
   "outputs": [
    {
     "name": "stdout",
     "output_type": "stream",
     "text": [
      "Animal\n"
     ]
    }
   ],
   "source": [
    "a.who_am_i()"
   ]
  },
  {
   "cell_type": "code",
   "execution_count": null,
   "id": "b6d1108c",
   "metadata": {},
   "outputs": [],
   "source": []
  },
  {
   "cell_type": "code",
   "execution_count": 7,
   "id": "4ec428ae",
   "metadata": {},
   "outputs": [
    {
     "name": "stdout",
     "output_type": "stream",
     "text": [
      "Animal Created.\n",
      "Dog Created\n"
     ]
    }
   ],
   "source": [
    "d = Dog()"
   ]
  },
  {
   "cell_type": "code",
   "execution_count": 8,
   "id": "5235444e",
   "metadata": {},
   "outputs": [
    {
     "name": "stdout",
     "output_type": "stream",
     "text": [
      "Eating\n"
     ]
    }
   ],
   "source": [
    "d.eat()"
   ]
  },
  {
   "cell_type": "code",
   "execution_count": 9,
   "id": "96477071",
   "metadata": {},
   "outputs": [
    {
     "name": "stdout",
     "output_type": "stream",
     "text": [
      "Dog\n"
     ]
    }
   ],
   "source": [
    "d.who_am_i()"
   ]
  },
  {
   "cell_type": "code",
   "execution_count": 10,
   "id": "0b31d6de",
   "metadata": {},
   "outputs": [
    {
     "name": "stdout",
     "output_type": "stream",
     "text": [
      "Woof!!\n"
     ]
    }
   ],
   "source": [
    "d.voice()"
   ]
  },
  {
   "cell_type": "code",
   "execution_count": null,
   "id": "f31fdfca",
   "metadata": {},
   "outputs": [],
   "source": []
  },
  {
   "cell_type": "code",
   "execution_count": 11,
   "id": "76e407b3",
   "metadata": {},
   "outputs": [
    {
     "name": "stdout",
     "output_type": "stream",
     "text": [
      "Animal Created.\n",
      "Cat Created\n"
     ]
    }
   ],
   "source": [
    "c = Cat()"
   ]
  },
  {
   "cell_type": "code",
   "execution_count": 12,
   "id": "6495e5fb",
   "metadata": {},
   "outputs": [
    {
     "name": "stdout",
     "output_type": "stream",
     "text": [
      "Eating\n"
     ]
    }
   ],
   "source": [
    "c.eat()"
   ]
  },
  {
   "cell_type": "code",
   "execution_count": 13,
   "id": "06c77c76",
   "metadata": {},
   "outputs": [
    {
     "name": "stdout",
     "output_type": "stream",
     "text": [
      "Cat\n"
     ]
    }
   ],
   "source": [
    "c.who_am_i()"
   ]
  },
  {
   "cell_type": "code",
   "execution_count": 14,
   "id": "9bbe7319",
   "metadata": {},
   "outputs": [
    {
     "name": "stdout",
     "output_type": "stream",
     "text": [
      "Meow!!\n"
     ]
    }
   ],
   "source": [
    "c.voice()"
   ]
  },
  {
   "cell_type": "code",
   "execution_count": null,
   "id": "a8c2d629",
   "metadata": {},
   "outputs": [],
   "source": []
  },
  {
   "cell_type": "code",
   "execution_count": 15,
   "id": "84c3b862",
   "metadata": {},
   "outputs": [
    {
     "name": "stdout",
     "output_type": "stream",
     "text": [
      "Meow!!\n",
      "Woof!!\n"
     ]
    }
   ],
   "source": [
    "for x in [c,d]:\n",
    "    x.voice()"
   ]
  },
  {
   "cell_type": "code",
   "execution_count": null,
   "id": "5c2fb328",
   "metadata": {},
   "outputs": [],
   "source": []
  },
  {
   "cell_type": "markdown",
   "id": "59ffc822",
   "metadata": {},
   "source": [
    "## Abstract Base Class:\n",
    "\n",
    "Abstract Base Classes are classes that are only meant to be inherited from; you can't create instance of an ABC. \n",
    "\n",
    "So how do we make a class an ABC? Simple! \n",
    "\n",
    "The abc module contains a metaclass called ABCMeta. Setting a class's metaclass to ABCMeta and making one of its methods virtual makes it an ABC.\n",
    "\n",
    "A virtual method is one that the ABC says must exist in child classes, but doesn't necessarily actually implement."
   ]
  },
  {
   "cell_type": "markdown",
   "id": "b3f07fb3",
   "metadata": {},
   "source": [
    "#### Example:\n",
    "\n",
    "Imagine we run a car dealership. We sell all types of vehicles, from motorcycles to trucks. We set ourselves apart from the competition by our prices. \n",
    "\n",
    "Specifically, how we determine the price of a vehicle on our lot: 5,000 *number of wheels a vehicle has. \n",
    "\n",
    "We love buying back our vehicles as well. We offer a flat rate:\n",
    "\n",
    "  10% of the miles driven on the vehicle. \n",
    "  \n",
    "  For trucks, that rate is $10,000.\n",
    "  \n",
    "  For cars, $8,000.\n",
    "  \n",
    "  For motorcycles, $4,000."
   ]
  },
  {
   "cell_type": "code",
   "execution_count": null,
   "id": "2ac2211a",
   "metadata": {},
   "outputs": [],
   "source": []
  },
  {
   "cell_type": "code",
   "execution_count": 16,
   "id": "9d5b5e2e",
   "metadata": {},
   "outputs": [],
   "source": [
    "from abc import ABCMeta, abstractmethod\n",
    "class Vehicle():\n",
    "    \n",
    "    \"\"\"A vehicle for sale by Jeffco Car Dealership.\n",
    "\n",
    "\n",
    "    Attributes:\n",
    "        wheels: An integer representing the number of wheels the vehicle has.\n",
    "        miles: The integral number of miles driven on the vehicle.\n",
    "        make: The make of the vehicle as a string.\n",
    "        model: The model of the vehicle as a string.\n",
    "        year: The integral year the vehicle was built.\n",
    "        sold_on: The date the vehicle was sold.\n",
    "    \"\"\"\n",
    "    \n",
    "    __metaclass__ = ABCMeta\n",
    "    \n",
    "    \n",
    "    base_sale_price = 0\n",
    "    wheels = 0\n",
    "    \n",
    "    def __init__(self, miles, make, model, year, sold_on = None):\n",
    "        \n",
    "        self.miles = miles\n",
    "        self.make = make\n",
    "        self.model = model\n",
    "        self.year = year\n",
    "        self.sold_on = sold_on\n",
    "        \n",
    "    @staticmethod\n",
    "    def vehicle_noise():\n",
    "        return \"Vroooooooom!!\"\n",
    "        \n",
    "    def sale_price(self):\n",
    "        \n",
    "        if self.sold_on is not None:\n",
    "            return \"Already Sold.\"\n",
    "        \n",
    "        return 5000 * self.wheels\n",
    "    \n",
    "    def purchase_price(self):\n",
    "        \n",
    "        if self.sold_on is None:\n",
    "            return \"Not yet Sold.\"\n",
    "        \n",
    "        return self.base_sale_price - (0.10* self.miles)\n",
    "    \n",
    "    @abstractmethod\n",
    "    def vehicle_type(self):\n",
    "        raise NotImplementedError (\"Subclass must Implement this Method.\")\n",
    "        "
   ]
  },
  {
   "cell_type": "code",
   "execution_count": null,
   "id": "7d153d61",
   "metadata": {},
   "outputs": [],
   "source": []
  },
  {
   "cell_type": "code",
   "execution_count": 17,
   "id": "c90da563",
   "metadata": {},
   "outputs": [],
   "source": [
    "class Car(Vehicle):\n",
    "    \n",
    "    \"\"\"A car for sale by Jeffco Car Dealership.\"\"\"\n",
    "    \n",
    "    base_sale_price = 8000\n",
    "    wheels = 4\n",
    "    \n",
    "    def vehicle_type(self):\n",
    "        return \"Car\""
   ]
  },
  {
   "cell_type": "code",
   "execution_count": 18,
   "id": "293c0288",
   "metadata": {},
   "outputs": [],
   "source": [
    "class Truck(Vehicle):\n",
    "    \n",
    "    \"\"\"A car for sale by Jeffco Car Dealership.\"\"\"\n",
    "    \n",
    "    base_sale_price = 10000\n",
    "    wheels = 4\n",
    "    \n",
    "    def vehicle_type(self):\n",
    "        return \"Truck\""
   ]
  },
  {
   "cell_type": "code",
   "execution_count": 19,
   "id": "d4aec8e0",
   "metadata": {},
   "outputs": [],
   "source": [
    "class MotorCycle(Vehicle):\n",
    "    \n",
    "    \"\"\"A car for sale by Jeffco Car Dealership.\"\"\"\n",
    "    \n",
    "    base_sale_price = 4000\n",
    "    wheels = 2\n",
    "    \n",
    "    def vehicle_type(self):\n",
    "        return \"MotorCycle\""
   ]
  },
  {
   "cell_type": "code",
   "execution_count": null,
   "id": "452fe42e",
   "metadata": {},
   "outputs": [],
   "source": []
  },
  {
   "cell_type": "code",
   "execution_count": 20,
   "id": "be0a12d6",
   "metadata": {},
   "outputs": [],
   "source": [
    "car = Car(miles = 3000, make = \"Hyundai\", model = \"Santro\", year = 2020)"
   ]
  },
  {
   "cell_type": "code",
   "execution_count": 21,
   "id": "89e62687",
   "metadata": {},
   "outputs": [
    {
     "data": {
      "text/plain": [
       "8000"
      ]
     },
     "execution_count": 21,
     "metadata": {},
     "output_type": "execute_result"
    }
   ],
   "source": [
    "car.base_sale_price"
   ]
  },
  {
   "cell_type": "code",
   "execution_count": 22,
   "id": "96f9f6aa",
   "metadata": {},
   "outputs": [
    {
     "data": {
      "text/plain": [
       "'Hyundai'"
      ]
     },
     "execution_count": 22,
     "metadata": {},
     "output_type": "execute_result"
    }
   ],
   "source": [
    "car.make"
   ]
  },
  {
   "cell_type": "code",
   "execution_count": 23,
   "id": "68b54519",
   "metadata": {},
   "outputs": [
    {
     "data": {
      "text/plain": [
       "3000"
      ]
     },
     "execution_count": 23,
     "metadata": {},
     "output_type": "execute_result"
    }
   ],
   "source": [
    "car.miles"
   ]
  },
  {
   "cell_type": "code",
   "execution_count": 24,
   "id": "76f3589d",
   "metadata": {},
   "outputs": [
    {
     "data": {
      "text/plain": [
       "'Santro'"
      ]
     },
     "execution_count": 24,
     "metadata": {},
     "output_type": "execute_result"
    }
   ],
   "source": [
    "car.model"
   ]
  },
  {
   "cell_type": "code",
   "execution_count": 25,
   "id": "4fa90600",
   "metadata": {},
   "outputs": [],
   "source": [
    "car.sold_on"
   ]
  },
  {
   "cell_type": "code",
   "execution_count": 26,
   "id": "31ec7bb0",
   "metadata": {},
   "outputs": [
    {
     "data": {
      "text/plain": [
       "'Not yet Sold.'"
      ]
     },
     "execution_count": 26,
     "metadata": {},
     "output_type": "execute_result"
    }
   ],
   "source": [
    "car.purchase_price()"
   ]
  },
  {
   "cell_type": "code",
   "execution_count": 27,
   "id": "e2b7b686",
   "metadata": {},
   "outputs": [
    {
     "data": {
      "text/plain": [
       "20000"
      ]
     },
     "execution_count": 27,
     "metadata": {},
     "output_type": "execute_result"
    }
   ],
   "source": [
    "car.sale_price()"
   ]
  },
  {
   "cell_type": "code",
   "execution_count": 28,
   "id": "25960a4b",
   "metadata": {},
   "outputs": [
    {
     "data": {
      "text/plain": [
       "'Vroooooooom!!'"
      ]
     },
     "execution_count": 28,
     "metadata": {},
     "output_type": "execute_result"
    }
   ],
   "source": [
    "car.vehicle_noise()"
   ]
  },
  {
   "cell_type": "code",
   "execution_count": 29,
   "id": "55cbdef7",
   "metadata": {},
   "outputs": [
    {
     "data": {
      "text/plain": [
       "'Car'"
      ]
     },
     "execution_count": 29,
     "metadata": {},
     "output_type": "execute_result"
    }
   ],
   "source": [
    "car.vehicle_type()"
   ]
  },
  {
   "cell_type": "code",
   "execution_count": 30,
   "id": "f22f7809",
   "metadata": {},
   "outputs": [
    {
     "data": {
      "text/plain": [
       "4"
      ]
     },
     "execution_count": 30,
     "metadata": {},
     "output_type": "execute_result"
    }
   ],
   "source": [
    "car.wheels"
   ]
  },
  {
   "cell_type": "code",
   "execution_count": 31,
   "id": "c6b39ee0",
   "metadata": {},
   "outputs": [
    {
     "data": {
      "text/plain": [
       "2020"
      ]
     },
     "execution_count": 31,
     "metadata": {},
     "output_type": "execute_result"
    }
   ],
   "source": [
    "car.year"
   ]
  },
  {
   "cell_type": "code",
   "execution_count": null,
   "id": "e6f34b58",
   "metadata": {},
   "outputs": [],
   "source": []
  },
  {
   "cell_type": "code",
   "execution_count": 32,
   "id": "117d367c",
   "metadata": {},
   "outputs": [],
   "source": [
    "truck = Truck(20000, \"Tata\", \"Truck\", 2016, \"2/5/20\")"
   ]
  },
  {
   "cell_type": "code",
   "execution_count": 33,
   "id": "fd60498b",
   "metadata": {},
   "outputs": [
    {
     "data": {
      "text/plain": [
       "'Tata'"
      ]
     },
     "execution_count": 33,
     "metadata": {},
     "output_type": "execute_result"
    }
   ],
   "source": [
    "truck.make"
   ]
  },
  {
   "cell_type": "code",
   "execution_count": 34,
   "id": "1f879298",
   "metadata": {},
   "outputs": [
    {
     "data": {
      "text/plain": [
       "20000"
      ]
     },
     "execution_count": 34,
     "metadata": {},
     "output_type": "execute_result"
    }
   ],
   "source": [
    "truck.miles"
   ]
  },
  {
   "cell_type": "code",
   "execution_count": 35,
   "id": "8190e072",
   "metadata": {},
   "outputs": [
    {
     "data": {
      "text/plain": [
       "'Truck'"
      ]
     },
     "execution_count": 35,
     "metadata": {},
     "output_type": "execute_result"
    }
   ],
   "source": [
    "truck.model"
   ]
  },
  {
   "cell_type": "code",
   "execution_count": 36,
   "id": "b5120e92",
   "metadata": {},
   "outputs": [
    {
     "data": {
      "text/plain": [
       "2016"
      ]
     },
     "execution_count": 36,
     "metadata": {},
     "output_type": "execute_result"
    }
   ],
   "source": [
    "truck.year"
   ]
  },
  {
   "cell_type": "code",
   "execution_count": 37,
   "id": "679d9282",
   "metadata": {},
   "outputs": [
    {
     "data": {
      "text/plain": [
       "'2/5/20'"
      ]
     },
     "execution_count": 37,
     "metadata": {},
     "output_type": "execute_result"
    }
   ],
   "source": [
    "truck.sold_on"
   ]
  },
  {
   "cell_type": "code",
   "execution_count": 38,
   "id": "53974032",
   "metadata": {},
   "outputs": [
    {
     "data": {
      "text/plain": [
       "'Vroooooooom!!'"
      ]
     },
     "execution_count": 38,
     "metadata": {},
     "output_type": "execute_result"
    }
   ],
   "source": [
    "truck.vehicle_noise()"
   ]
  },
  {
   "cell_type": "code",
   "execution_count": 39,
   "id": "3e338de5",
   "metadata": {},
   "outputs": [
    {
     "data": {
      "text/plain": [
       "'Truck'"
      ]
     },
     "execution_count": 39,
     "metadata": {},
     "output_type": "execute_result"
    }
   ],
   "source": [
    "truck.vehicle_type()"
   ]
  },
  {
   "cell_type": "code",
   "execution_count": 40,
   "id": "08466750",
   "metadata": {},
   "outputs": [
    {
     "data": {
      "text/plain": [
       "8000.0"
      ]
     },
     "execution_count": 40,
     "metadata": {},
     "output_type": "execute_result"
    }
   ],
   "source": [
    "truck.purchase_price()"
   ]
  },
  {
   "cell_type": "code",
   "execution_count": 41,
   "id": "512f2085",
   "metadata": {},
   "outputs": [
    {
     "data": {
      "text/plain": [
       "'Already Sold.'"
      ]
     },
     "execution_count": 41,
     "metadata": {},
     "output_type": "execute_result"
    }
   ],
   "source": [
    "truck.sale_price()"
   ]
  },
  {
   "cell_type": "code",
   "execution_count": 42,
   "id": "9bee586d",
   "metadata": {},
   "outputs": [
    {
     "data": {
      "text/plain": [
       "10000"
      ]
     },
     "execution_count": 42,
     "metadata": {},
     "output_type": "execute_result"
    }
   ],
   "source": [
    "truck.base_sale_price"
   ]
  },
  {
   "cell_type": "code",
   "execution_count": null,
   "id": "b09b37db",
   "metadata": {},
   "outputs": [],
   "source": []
  },
  {
   "cell_type": "code",
   "execution_count": 43,
   "id": "2ab75c1a",
   "metadata": {},
   "outputs": [],
   "source": [
    "bike = MotorCycle(800, \"TVS\", \"Apache\", 2017, \"11/12/2018\")"
   ]
  },
  {
   "cell_type": "code",
   "execution_count": 44,
   "id": "3073023e",
   "metadata": {},
   "outputs": [
    {
     "data": {
      "text/plain": [
       "'TVS'"
      ]
     },
     "execution_count": 44,
     "metadata": {},
     "output_type": "execute_result"
    }
   ],
   "source": [
    "bike.make"
   ]
  },
  {
   "cell_type": "code",
   "execution_count": 45,
   "id": "897c16f3",
   "metadata": {},
   "outputs": [
    {
     "data": {
      "text/plain": [
       "800"
      ]
     },
     "execution_count": 45,
     "metadata": {},
     "output_type": "execute_result"
    }
   ],
   "source": [
    "bike.miles"
   ]
  },
  {
   "cell_type": "code",
   "execution_count": 46,
   "id": "e61b9023",
   "metadata": {},
   "outputs": [
    {
     "data": {
      "text/plain": [
       "'Apache'"
      ]
     },
     "execution_count": 46,
     "metadata": {},
     "output_type": "execute_result"
    }
   ],
   "source": [
    "bike.model"
   ]
  },
  {
   "cell_type": "code",
   "execution_count": 47,
   "id": "f32bee2e",
   "metadata": {},
   "outputs": [
    {
     "data": {
      "text/plain": [
       "2017"
      ]
     },
     "execution_count": 47,
     "metadata": {},
     "output_type": "execute_result"
    }
   ],
   "source": [
    "bike.year"
   ]
  },
  {
   "cell_type": "code",
   "execution_count": 48,
   "id": "b1eab5ba",
   "metadata": {},
   "outputs": [
    {
     "data": {
      "text/plain": [
       "'11/12/2018'"
      ]
     },
     "execution_count": 48,
     "metadata": {},
     "output_type": "execute_result"
    }
   ],
   "source": [
    "bike.sold_on"
   ]
  },
  {
   "cell_type": "code",
   "execution_count": 49,
   "id": "cef934af",
   "metadata": {},
   "outputs": [
    {
     "data": {
      "text/plain": [
       "4000"
      ]
     },
     "execution_count": 49,
     "metadata": {},
     "output_type": "execute_result"
    }
   ],
   "source": [
    "bike.base_sale_price"
   ]
  },
  {
   "cell_type": "code",
   "execution_count": 50,
   "id": "16343670",
   "metadata": {},
   "outputs": [
    {
     "data": {
      "text/plain": [
       "3920.0"
      ]
     },
     "execution_count": 50,
     "metadata": {},
     "output_type": "execute_result"
    }
   ],
   "source": [
    "bike.purchase_price()"
   ]
  },
  {
   "cell_type": "code",
   "execution_count": 51,
   "id": "e13b6683",
   "metadata": {},
   "outputs": [
    {
     "data": {
      "text/plain": [
       "'Already Sold.'"
      ]
     },
     "execution_count": 51,
     "metadata": {},
     "output_type": "execute_result"
    }
   ],
   "source": [
    "bike.sale_price()"
   ]
  },
  {
   "cell_type": "code",
   "execution_count": 52,
   "id": "602a3c08",
   "metadata": {},
   "outputs": [
    {
     "data": {
      "text/plain": [
       "'Vroooooooom!!'"
      ]
     },
     "execution_count": 52,
     "metadata": {},
     "output_type": "execute_result"
    }
   ],
   "source": [
    "bike.vehicle_noise()"
   ]
  },
  {
   "cell_type": "code",
   "execution_count": 53,
   "id": "824a426c",
   "metadata": {},
   "outputs": [
    {
     "data": {
      "text/plain": [
       "'MotorCycle'"
      ]
     },
     "execution_count": 53,
     "metadata": {},
     "output_type": "execute_result"
    }
   ],
   "source": [
    "bike.vehicle_type()"
   ]
  },
  {
   "cell_type": "code",
   "execution_count": 54,
   "id": "ddcbb51b",
   "metadata": {},
   "outputs": [
    {
     "data": {
      "text/plain": [
       "2"
      ]
     },
     "execution_count": 54,
     "metadata": {},
     "output_type": "execute_result"
    }
   ],
   "source": [
    "bike.wheels"
   ]
  }
 ],
 "metadata": {
  "kernelspec": {
   "display_name": "Python 3 (ipykernel)",
   "language": "python",
   "name": "python3"
  },
  "language_info": {
   "codemirror_mode": {
    "name": "ipython",
    "version": 3
   },
   "file_extension": ".py",
   "mimetype": "text/x-python",
   "name": "python",
   "nbconvert_exporter": "python",
   "pygments_lexer": "ipython3",
   "version": "3.8.12"
  }
 },
 "nbformat": 4,
 "nbformat_minor": 5
}
