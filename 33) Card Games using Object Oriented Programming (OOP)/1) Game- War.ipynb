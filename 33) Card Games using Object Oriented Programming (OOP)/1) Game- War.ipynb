{
 "cells": [
  {
   "cell_type": "markdown",
   "id": "3cd38b91",
   "metadata": {},
   "source": [
    "## Simple War Game\n",
    "\n",
    "We will use Python OOP to simulate a simplified version of the game war. Two players will each start off with half the deck, then they each remove a card, compare which card has the highest value, and the player with the higher card wins both cards.\n",
    "\n",
    "The objective of the game is to win all of the cards.\n",
    "\n",
    "The deck is divided evenly among the players, giving each a down stack. In unison, each player reveals the top card of their deck—this is a \"battle\"—and the player with the higher card takes both of the cards played and moves them to their stack. Aces are high, and suits are ignored.\n",
    "\n",
    "If the two cards played are of equal value, then there is a \"war\". Both players place the next card from their pile face down and then another card face-up. The owner of the higher face-up card wins the war and adds all the cards on the table to the bottom of their deck. If the face-up cards are again equal then the battle repeats with another set of face-down/up cards. This repeats until one player's face-up card is higher than their opponent's."
   ]
  },
  {
   "cell_type": "code",
   "execution_count": null,
   "id": "d0984d89",
   "metadata": {},
   "outputs": [],
   "source": []
  },
  {
   "cell_type": "markdown",
   "id": "99af19b8",
   "metadata": {},
   "source": [
    "## Single Card Class\n",
    "\n",
    "### Creating a Card Class with outside variables\n",
    "\n",
    "Here we will use some outside variables that we know don't change regardless of the situation, such as a deck of cards. Regardless of what round,match, or game we're playing, we'll still need the same deck of cards."
   ]
  },
  {
   "cell_type": "code",
   "execution_count": 1,
   "id": "1ae82e95",
   "metadata": {},
   "outputs": [],
   "source": [
    "import random"
   ]
  },
  {
   "cell_type": "code",
   "execution_count": 2,
   "id": "aca83fb2",
   "metadata": {},
   "outputs": [],
   "source": [
    "suits = (\"Hearts\", \"Clubs\", \"Spades\", \"Diamonds\")\n",
    "    \n",
    "ranks = (\"Ace\", \"Two\", \"Three\", \"Four\", \"Five\", \"Six\", \"Seven\", \"Eight\", \"Nine\", \"Ten\",\n",
    "            \"Jack\", \"Queen\", \"King\")\n",
    "    \n",
    "values = {\"Ace\" : 14, \"Two\": 2, \"Three\" : 3, \"Four\" : 4, \"Five\" : 5, \"Six\" : 6, \"Seven\" : 7, \"Eight\" : 8,\n",
    "              \"Nine\" : 9, \"Ten\" : 10, \"Jack\" : 11, \"Queen\" : 12, \"King\" : 13}"
   ]
  },
  {
   "cell_type": "code",
   "execution_count": null,
   "id": "79ddec49",
   "metadata": {},
   "outputs": [],
   "source": []
  },
  {
   "cell_type": "code",
   "execution_count": 3,
   "id": "3a3164be",
   "metadata": {},
   "outputs": [],
   "source": [
    "class Card():\n",
    "    \n",
    "    def __init__(self, suit, rank):\n",
    "        \n",
    "        self.suit = suit\n",
    "        self.rank = rank\n",
    "        self.value = values[rank]\n",
    "        \n",
    "    def __str__(self):\n",
    "        \n",
    "        return self.rank + \" of \" + self.suit"
   ]
  },
  {
   "cell_type": "code",
   "execution_count": null,
   "id": "254b922c",
   "metadata": {},
   "outputs": [],
   "source": []
  },
  {
   "cell_type": "markdown",
   "id": "69a7589c",
   "metadata": {},
   "source": [
    "#### Examples of Card Objects:"
   ]
  },
  {
   "cell_type": "code",
   "execution_count": 4,
   "id": "e7a3db2b",
   "metadata": {},
   "outputs": [],
   "source": [
    "card1 = Card(\"Hearts\",\"Jack\")"
   ]
  },
  {
   "cell_type": "code",
   "execution_count": 5,
   "id": "4257abcd",
   "metadata": {},
   "outputs": [
    {
     "data": {
      "text/plain": [
       "'Hearts'"
      ]
     },
     "execution_count": 5,
     "metadata": {},
     "output_type": "execute_result"
    }
   ],
   "source": [
    "card1.suit"
   ]
  },
  {
   "cell_type": "code",
   "execution_count": 6,
   "id": "11c94521",
   "metadata": {},
   "outputs": [
    {
     "data": {
      "text/plain": [
       "'Jack'"
      ]
     },
     "execution_count": 6,
     "metadata": {},
     "output_type": "execute_result"
    }
   ],
   "source": [
    "card1.rank"
   ]
  },
  {
   "cell_type": "code",
   "execution_count": 7,
   "id": "2a26903c",
   "metadata": {},
   "outputs": [
    {
     "name": "stdout",
     "output_type": "stream",
     "text": [
      "Jack of Hearts\n"
     ]
    }
   ],
   "source": [
    "print(card1)"
   ]
  },
  {
   "cell_type": "code",
   "execution_count": 8,
   "id": "5122e572",
   "metadata": {},
   "outputs": [
    {
     "data": {
      "text/plain": [
       "11"
      ]
     },
     "execution_count": 8,
     "metadata": {},
     "output_type": "execute_result"
    }
   ],
   "source": [
    "card1.value"
   ]
  },
  {
   "cell_type": "code",
   "execution_count": null,
   "id": "e205dd76",
   "metadata": {},
   "outputs": [],
   "source": []
  },
  {
   "cell_type": "code",
   "execution_count": 9,
   "id": "6b5e0271",
   "metadata": {},
   "outputs": [],
   "source": [
    "card2 = Card(\"Diamonds\", \"Ace\")"
   ]
  },
  {
   "cell_type": "code",
   "execution_count": 10,
   "id": "e7c6cdf5",
   "metadata": {},
   "outputs": [
    {
     "data": {
      "text/plain": [
       "'Diamonds'"
      ]
     },
     "execution_count": 10,
     "metadata": {},
     "output_type": "execute_result"
    }
   ],
   "source": [
    "card2.suit"
   ]
  },
  {
   "cell_type": "code",
   "execution_count": 11,
   "id": "6c111a1f",
   "metadata": {},
   "outputs": [
    {
     "data": {
      "text/plain": [
       "'Ace'"
      ]
     },
     "execution_count": 11,
     "metadata": {},
     "output_type": "execute_result"
    }
   ],
   "source": [
    "card2.rank"
   ]
  },
  {
   "cell_type": "code",
   "execution_count": 12,
   "id": "45bd5447",
   "metadata": {},
   "outputs": [
    {
     "data": {
      "text/plain": [
       "14"
      ]
     },
     "execution_count": 12,
     "metadata": {},
     "output_type": "execute_result"
    }
   ],
   "source": [
    "card2.value"
   ]
  },
  {
   "cell_type": "code",
   "execution_count": 13,
   "id": "930e6553",
   "metadata": {},
   "outputs": [
    {
     "name": "stdout",
     "output_type": "stream",
     "text": [
      "Ace of Diamonds\n"
     ]
    }
   ],
   "source": [
    "print(card2)"
   ]
  },
  {
   "cell_type": "code",
   "execution_count": null,
   "id": "8b03c8b2",
   "metadata": {},
   "outputs": [],
   "source": []
  },
  {
   "cell_type": "markdown",
   "id": "9a954f13",
   "metadata": {},
   "source": [
    "## Deck Class\n",
    "\n",
    "### Using a class within another class\n",
    "\n",
    "We just created a single card, but how can we create an entire Deck of cards? Let's explore doing this with a class that utilizes the Card class.\n",
    "\n",
    "A Deck will be made up of multiple Cards. Which mean's we will actually use the Card class within the \\_\\_init__ of the Deck class."
   ]
  },
  {
   "cell_type": "code",
   "execution_count": 14,
   "id": "64811eeb",
   "metadata": {},
   "outputs": [],
   "source": [
    "class Deck():\n",
    "    \n",
    "    def __init__(self):\n",
    "        \n",
    "        self.all_cards = []\n",
    "        \n",
    "        for suit in suits:\n",
    "            for rank in ranks:\n",
    "                \n",
    "                temp_card = Card(suit, rank)\n",
    "                self.all_cards.append(temp_card)\n",
    "                \n",
    "                \n",
    "    def shuffle(self):\n",
    "        \n",
    "        random.shuffle(self.all_cards)\n",
    "        \n",
    "    \n",
    "    def deal_one(self):\n",
    "        \n",
    "        return self.all_cards.pop()"
   ]
  },
  {
   "cell_type": "code",
   "execution_count": null,
   "id": "ac2de382",
   "metadata": {},
   "outputs": [],
   "source": []
  },
  {
   "cell_type": "markdown",
   "id": "7d3c4734",
   "metadata": {},
   "source": [
    "#### Creating Deck Example:"
   ]
  },
  {
   "cell_type": "code",
   "execution_count": 15,
   "id": "ca46b695",
   "metadata": {},
   "outputs": [],
   "source": [
    "new_deck = Deck()"
   ]
  },
  {
   "cell_type": "code",
   "execution_count": 16,
   "id": "0c949537",
   "metadata": {},
   "outputs": [
    {
     "data": {
      "text/plain": [
       "[<__main__.Card at 0x13eda2cd460>,\n",
       " <__main__.Card at 0x13eda2cd100>,\n",
       " <__main__.Card at 0x13eda2cd550>,\n",
       " <__main__.Card at 0x13eda2cd5e0>,\n",
       " <__main__.Card at 0x13eda2cd610>,\n",
       " <__main__.Card at 0x13eda2cd6a0>,\n",
       " <__main__.Card at 0x13eda2cd670>,\n",
       " <__main__.Card at 0x13eda2cd730>,\n",
       " <__main__.Card at 0x13eda2cd5b0>,\n",
       " <__main__.Card at 0x13eda2cd790>,\n",
       " <__main__.Card at 0x13eda2cd2e0>,\n",
       " <__main__.Card at 0x13eda2cd7f0>,\n",
       " <__main__.Card at 0x13eda2cd850>,\n",
       " <__main__.Card at 0x13eda2cd8e0>,\n",
       " <__main__.Card at 0x13eda2cd9d0>,\n",
       " <__main__.Card at 0x13eda2cda30>,\n",
       " <__main__.Card at 0x13eda2cdac0>,\n",
       " <__main__.Card at 0x13eda2cdb20>,\n",
       " <__main__.Card at 0x13eda2cdb80>,\n",
       " <__main__.Card at 0x13eda2cdbe0>,\n",
       " <__main__.Card at 0x13eda2cdc40>,\n",
       " <__main__.Card at 0x13eda2cdca0>,\n",
       " <__main__.Card at 0x13eda2cdd00>,\n",
       " <__main__.Card at 0x13eda2cdd60>,\n",
       " <__main__.Card at 0x13eda2cddc0>,\n",
       " <__main__.Card at 0x13eda2cde20>,\n",
       " <__main__.Card at 0x13eda2cde80>,\n",
       " <__main__.Card at 0x13eda2cdee0>,\n",
       " <__main__.Card at 0x13eda2cdf40>,\n",
       " <__main__.Card at 0x13eda2cdfa0>,\n",
       " <__main__.Card at 0x13eda2cc040>,\n",
       " <__main__.Card at 0x13eda2cc0a0>,\n",
       " <__main__.Card at 0x13eda2cc100>,\n",
       " <__main__.Card at 0x13eda2cc160>,\n",
       " <__main__.Card at 0x13eda2cc1c0>,\n",
       " <__main__.Card at 0x13eda2cc220>,\n",
       " <__main__.Card at 0x13eda2cc280>,\n",
       " <__main__.Card at 0x13eda2cc2e0>,\n",
       " <__main__.Card at 0x13eda2cc340>,\n",
       " <__main__.Card at 0x13eda2cc3a0>,\n",
       " <__main__.Card at 0x13eda2cc400>,\n",
       " <__main__.Card at 0x13eda2cc460>,\n",
       " <__main__.Card at 0x13eda2cc4c0>,\n",
       " <__main__.Card at 0x13eda2cc520>,\n",
       " <__main__.Card at 0x13eda2cc580>,\n",
       " <__main__.Card at 0x13eda2cc5e0>,\n",
       " <__main__.Card at 0x13eda2cc640>,\n",
       " <__main__.Card at 0x13eda2cc6a0>,\n",
       " <__main__.Card at 0x13eda2cc700>,\n",
       " <__main__.Card at 0x13eda2cc760>,\n",
       " <__main__.Card at 0x13eda2cc7c0>,\n",
       " <__main__.Card at 0x13eda2cc820>]"
      ]
     },
     "execution_count": 16,
     "metadata": {},
     "output_type": "execute_result"
    }
   ],
   "source": [
    "new_deck.all_cards"
   ]
  },
  {
   "cell_type": "code",
   "execution_count": 17,
   "id": "beec4e2a",
   "metadata": {},
   "outputs": [
    {
     "data": {
      "text/plain": [
       "52"
      ]
     },
     "execution_count": 17,
     "metadata": {},
     "output_type": "execute_result"
    }
   ],
   "source": [
    "len(new_deck.all_cards)"
   ]
  },
  {
   "cell_type": "code",
   "execution_count": 18,
   "id": "86df7070",
   "metadata": {},
   "outputs": [
    {
     "data": {
      "text/plain": [
       "<__main__.Card at 0x13eda2cd460>"
      ]
     },
     "execution_count": 18,
     "metadata": {},
     "output_type": "execute_result"
    }
   ],
   "source": [
    "new_deck.all_cards[0]"
   ]
  },
  {
   "cell_type": "code",
   "execution_count": 19,
   "id": "36b3f8bf",
   "metadata": {},
   "outputs": [
    {
     "name": "stdout",
     "output_type": "stream",
     "text": [
      "Ace of Hearts\n"
     ]
    }
   ],
   "source": [
    "print(new_deck.all_cards[0])"
   ]
  },
  {
   "cell_type": "code",
   "execution_count": 20,
   "id": "bb72f0d0",
   "metadata": {},
   "outputs": [],
   "source": [
    "new_deck.shuffle()"
   ]
  },
  {
   "cell_type": "code",
   "execution_count": 21,
   "id": "4ee831c4",
   "metadata": {},
   "outputs": [
    {
     "name": "stdout",
     "output_type": "stream",
     "text": [
      "King of Clubs\n"
     ]
    }
   ],
   "source": [
    "print(new_deck.all_cards[0])"
   ]
  },
  {
   "cell_type": "code",
   "execution_count": 22,
   "id": "b6494ad9",
   "metadata": {},
   "outputs": [],
   "source": [
    "my_card = new_deck.deal_one()"
   ]
  },
  {
   "cell_type": "code",
   "execution_count": 23,
   "id": "194c0baf",
   "metadata": {},
   "outputs": [
    {
     "name": "stdout",
     "output_type": "stream",
     "text": [
      "Six of Diamonds\n"
     ]
    }
   ],
   "source": [
    "print(my_card)"
   ]
  },
  {
   "cell_type": "code",
   "execution_count": 24,
   "id": "92571804",
   "metadata": {},
   "outputs": [
    {
     "data": {
      "text/plain": [
       "__main__.Card"
      ]
     },
     "execution_count": 24,
     "metadata": {},
     "output_type": "execute_result"
    }
   ],
   "source": [
    "type(my_card)"
   ]
  },
  {
   "cell_type": "code",
   "execution_count": 25,
   "id": "838f5838",
   "metadata": {},
   "outputs": [
    {
     "data": {
      "text/plain": [
       "'Six'"
      ]
     },
     "execution_count": 25,
     "metadata": {},
     "output_type": "execute_result"
    }
   ],
   "source": [
    "my_card.rank"
   ]
  },
  {
   "cell_type": "code",
   "execution_count": 26,
   "id": "2198f672",
   "metadata": {},
   "outputs": [
    {
     "data": {
      "text/plain": [
       "6"
      ]
     },
     "execution_count": 26,
     "metadata": {},
     "output_type": "execute_result"
    }
   ],
   "source": [
    "my_card.value"
   ]
  },
  {
   "cell_type": "code",
   "execution_count": 27,
   "id": "0dd69474",
   "metadata": {},
   "outputs": [
    {
     "data": {
      "text/plain": [
       "'Diamonds'"
      ]
     },
     "execution_count": 27,
     "metadata": {},
     "output_type": "execute_result"
    }
   ],
   "source": [
    "my_card.suit"
   ]
  },
  {
   "cell_type": "code",
   "execution_count": null,
   "id": "40e2bff2",
   "metadata": {},
   "outputs": [],
   "source": []
  },
  {
   "cell_type": "markdown",
   "id": "e19f0118",
   "metadata": {},
   "source": [
    "# Player Class\n",
    "\n",
    "Let's create a Player Class, a player should be able to hold instances of Cards, they should also be able to remove and add them from their hand. We want the Player class to be flexible enough to add one card, or many cards so we'll use a simple if check to keep it all in the same method."
   ]
  },
  {
   "cell_type": "code",
   "execution_count": 28,
   "id": "640511aa",
   "metadata": {},
   "outputs": [],
   "source": [
    "class Player():\n",
    "    \n",
    "    def __init__(self,name):\n",
    "        \n",
    "        self.name = name\n",
    "        \n",
    "         # A new player has no cards\n",
    "        self.all_cards = []\n",
    "        \n",
    "   \n",
    "    def remove_card(self):\n",
    "        \n",
    "        # Note we remove one card from the list of all_cards\n",
    "        # We state 0 to remove from the \"top\" of the deck\n",
    "        # We'll imagine index -1 as the bottom of the deck\n",
    "        \n",
    "        return self.all_cards.pop(0)\n",
    "        \n",
    "    def add_cards(self, cards):\n",
    "        \n",
    "        if type(cards) == type([]):\n",
    "            self.all_cards.extend(cards)\n",
    "        else:\n",
    "            self.all_cards.append(cards)\n",
    "            \n",
    "    def __str__(self):\n",
    "        \n",
    "        return f\"{self.name} has {len(self.all_cards)} cards.\""
   ]
  },
  {
   "cell_type": "code",
   "execution_count": null,
   "id": "d9f21e6a",
   "metadata": {},
   "outputs": [],
   "source": []
  },
  {
   "cell_type": "markdown",
   "id": "345057e7",
   "metadata": {},
   "source": [
    "#### Creating Player Example:"
   ]
  },
  {
   "cell_type": "code",
   "execution_count": 29,
   "id": "09ec2aa3",
   "metadata": {},
   "outputs": [],
   "source": [
    "player1 = Player(\"Shailya\")"
   ]
  },
  {
   "cell_type": "code",
   "execution_count": 30,
   "id": "25582742",
   "metadata": {},
   "outputs": [
    {
     "name": "stdout",
     "output_type": "stream",
     "text": [
      "Shailya has 0 cards.\n"
     ]
    }
   ],
   "source": [
    "print(player1)"
   ]
  },
  {
   "cell_type": "code",
   "execution_count": null,
   "id": "f299718f",
   "metadata": {},
   "outputs": [],
   "source": []
  },
  {
   "cell_type": "code",
   "execution_count": 31,
   "id": "8107e3d1",
   "metadata": {},
   "outputs": [
    {
     "name": "stdout",
     "output_type": "stream",
     "text": [
      "Jack of Hearts\n"
     ]
    }
   ],
   "source": [
    "print(card1)"
   ]
  },
  {
   "cell_type": "code",
   "execution_count": 32,
   "id": "de4d659e",
   "metadata": {},
   "outputs": [],
   "source": [
    "player1.add_cards(card1)"
   ]
  },
  {
   "cell_type": "code",
   "execution_count": 33,
   "id": "066b9f63",
   "metadata": {},
   "outputs": [
    {
     "name": "stdout",
     "output_type": "stream",
     "text": [
      "Shailya has 1 cards.\n"
     ]
    }
   ],
   "source": [
    "print(player1)"
   ]
  },
  {
   "cell_type": "code",
   "execution_count": 34,
   "id": "6bdecd76",
   "metadata": {},
   "outputs": [
    {
     "data": {
      "text/plain": [
       "[<__main__.Card at 0x13eda26d310>]"
      ]
     },
     "execution_count": 34,
     "metadata": {},
     "output_type": "execute_result"
    }
   ],
   "source": [
    "player1.all_cards"
   ]
  },
  {
   "cell_type": "code",
   "execution_count": 35,
   "id": "0851829c",
   "metadata": {},
   "outputs": [
    {
     "name": "stdout",
     "output_type": "stream",
     "text": [
      "Jack of Hearts\n"
     ]
    }
   ],
   "source": [
    "print(player1.all_cards[0])"
   ]
  },
  {
   "cell_type": "code",
   "execution_count": null,
   "id": "bbd8fe57",
   "metadata": {},
   "outputs": [],
   "source": []
  },
  {
   "cell_type": "code",
   "execution_count": 36,
   "id": "7ed3e927",
   "metadata": {},
   "outputs": [],
   "source": [
    "player1.add_cards([card1,card2])"
   ]
  },
  {
   "cell_type": "code",
   "execution_count": 37,
   "id": "9d2bebb4",
   "metadata": {},
   "outputs": [
    {
     "name": "stdout",
     "output_type": "stream",
     "text": [
      "Shailya has 3 cards.\n"
     ]
    }
   ],
   "source": [
    "print(player1)"
   ]
  },
  {
   "cell_type": "code",
   "execution_count": 38,
   "id": "eef465dd",
   "metadata": {},
   "outputs": [
    {
     "name": "stdout",
     "output_type": "stream",
     "text": [
      "Jack of Hearts\n"
     ]
    }
   ],
   "source": [
    "print(player1.all_cards[0])"
   ]
  },
  {
   "cell_type": "code",
   "execution_count": 39,
   "id": "441baa5f",
   "metadata": {},
   "outputs": [
    {
     "name": "stdout",
     "output_type": "stream",
     "text": [
      "Jack of Hearts\n"
     ]
    }
   ],
   "source": [
    "print(player1.all_cards[1])"
   ]
  },
  {
   "cell_type": "code",
   "execution_count": 40,
   "id": "6a092d85",
   "metadata": {},
   "outputs": [
    {
     "name": "stdout",
     "output_type": "stream",
     "text": [
      "Ace of Diamonds\n"
     ]
    }
   ],
   "source": [
    "print(player1.all_cards[2])"
   ]
  },
  {
   "cell_type": "code",
   "execution_count": null,
   "id": "09ee5f2b",
   "metadata": {},
   "outputs": [],
   "source": []
  },
  {
   "cell_type": "code",
   "execution_count": 41,
   "id": "7158f11e",
   "metadata": {},
   "outputs": [
    {
     "data": {
      "text/plain": [
       "<__main__.Card at 0x13eda26d310>"
      ]
     },
     "execution_count": 41,
     "metadata": {},
     "output_type": "execute_result"
    }
   ],
   "source": [
    "player1.remove_card()"
   ]
  },
  {
   "cell_type": "code",
   "execution_count": 42,
   "id": "bda948e4",
   "metadata": {},
   "outputs": [
    {
     "name": "stdout",
     "output_type": "stream",
     "text": [
      "Shailya has 2 cards.\n"
     ]
    }
   ],
   "source": [
    "print(player1)"
   ]
  },
  {
   "cell_type": "code",
   "execution_count": null,
   "id": "948d9cfb",
   "metadata": {},
   "outputs": [],
   "source": []
  },
  {
   "cell_type": "markdown",
   "id": "6124dd38",
   "metadata": {},
   "source": [
    "### Game Logic:"
   ]
  },
  {
   "cell_type": "markdown",
   "id": "c346b401",
   "metadata": {},
   "source": [
    "#### Setting up Two Players:"
   ]
  },
  {
   "cell_type": "code",
   "execution_count": 43,
   "id": "1d52b619",
   "metadata": {},
   "outputs": [],
   "source": [
    "player1 = Player(\"Shailya\")\n",
    "player2 = Player(\"Khushbu\")"
   ]
  },
  {
   "cell_type": "code",
   "execution_count": 44,
   "id": "6c3c2bc7",
   "metadata": {},
   "outputs": [
    {
     "data": {
      "text/plain": [
       "'Shailya'"
      ]
     },
     "execution_count": 44,
     "metadata": {},
     "output_type": "execute_result"
    }
   ],
   "source": [
    "player1.name"
   ]
  },
  {
   "cell_type": "code",
   "execution_count": 45,
   "id": "47d828e3",
   "metadata": {},
   "outputs": [
    {
     "data": {
      "text/plain": [
       "'Khushbu'"
      ]
     },
     "execution_count": 45,
     "metadata": {},
     "output_type": "execute_result"
    }
   ],
   "source": [
    "player2.name"
   ]
  },
  {
   "cell_type": "code",
   "execution_count": 46,
   "id": "a3b598e0",
   "metadata": {},
   "outputs": [
    {
     "name": "stdout",
     "output_type": "stream",
     "text": [
      "Shailya has 0 cards.\n"
     ]
    }
   ],
   "source": [
    "print(player1)"
   ]
  },
  {
   "cell_type": "code",
   "execution_count": 47,
   "id": "50e9383c",
   "metadata": {},
   "outputs": [
    {
     "name": "stdout",
     "output_type": "stream",
     "text": [
      "Khushbu has 0 cards.\n"
     ]
    }
   ],
   "source": [
    "print(player2)"
   ]
  },
  {
   "cell_type": "code",
   "execution_count": 48,
   "id": "039c07a8",
   "metadata": {},
   "outputs": [
    {
     "data": {
      "text/plain": [
       "[]"
      ]
     },
     "execution_count": 48,
     "metadata": {},
     "output_type": "execute_result"
    }
   ],
   "source": [
    "player1.all_cards"
   ]
  },
  {
   "cell_type": "code",
   "execution_count": 49,
   "id": "588417f8",
   "metadata": {},
   "outputs": [
    {
     "data": {
      "text/plain": [
       "[]"
      ]
     },
     "execution_count": 49,
     "metadata": {},
     "output_type": "execute_result"
    }
   ],
   "source": [
    "player2.all_cards"
   ]
  },
  {
   "cell_type": "code",
   "execution_count": null,
   "id": "67a4982a",
   "metadata": {},
   "outputs": [],
   "source": []
  },
  {
   "cell_type": "markdown",
   "id": "feb603f3",
   "metadata": {},
   "source": [
    "#### Setting up, Shuffling and Splitting Deck between Two Players:"
   ]
  },
  {
   "cell_type": "code",
   "execution_count": 50,
   "id": "fafba4a8",
   "metadata": {},
   "outputs": [],
   "source": [
    "new_deck = Deck()"
   ]
  },
  {
   "cell_type": "code",
   "execution_count": 51,
   "id": "b6faf464",
   "metadata": {},
   "outputs": [],
   "source": [
    "new_deck.shuffle()"
   ]
  },
  {
   "cell_type": "code",
   "execution_count": 52,
   "id": "831a477a",
   "metadata": {},
   "outputs": [
    {
     "name": "stdout",
     "output_type": "stream",
     "text": [
      "Four of Diamonds\n"
     ]
    }
   ],
   "source": [
    "print(new_deck.all_cards[-1])"
   ]
  },
  {
   "cell_type": "code",
   "execution_count": null,
   "id": "71923af9",
   "metadata": {},
   "outputs": [],
   "source": []
  },
  {
   "cell_type": "code",
   "execution_count": 53,
   "id": "b3781e69",
   "metadata": {},
   "outputs": [],
   "source": [
    "# Splitting Deck Between Players:\n",
    "\n",
    "for i in range(26):\n",
    "    \n",
    "    player1.add_cards(new_deck.deal_one())\n",
    "    player2.add_cards(new_deck.deal_one())"
   ]
  },
  {
   "cell_type": "code",
   "execution_count": 54,
   "id": "b44b4bbf",
   "metadata": {},
   "outputs": [
    {
     "data": {
      "text/plain": [
       "[<__main__.Card at 0x13eda2ddb80>,\n",
       " <__main__.Card at 0x13eda2dd700>,\n",
       " <__main__.Card at 0x13eda2ddd00>,\n",
       " <__main__.Card at 0x13eda2dd0a0>,\n",
       " <__main__.Card at 0x13eda2dda00>,\n",
       " <__main__.Card at 0x13eda2dd340>,\n",
       " <__main__.Card at 0x13eda2dd5e0>,\n",
       " <__main__.Card at 0x13eda2f1df0>,\n",
       " <__main__.Card at 0x13eda2dd460>,\n",
       " <__main__.Card at 0x13eda2dd040>,\n",
       " <__main__.Card at 0x13eda2dd280>,\n",
       " <__main__.Card at 0x13eda2f1a00>,\n",
       " <__main__.Card at 0x13eda2dd940>,\n",
       " <__main__.Card at 0x13eda2dd6a0>,\n",
       " <__main__.Card at 0x13eda2f1d00>,\n",
       " <__main__.Card at 0x13eda2ddb20>,\n",
       " <__main__.Card at 0x13eda2dddc0>,\n",
       " <__main__.Card at 0x13eda2ddac0>,\n",
       " <__main__.Card at 0x13eda2dd9a0>,\n",
       " <__main__.Card at 0x13eda2dd1c0>,\n",
       " <__main__.Card at 0x13eda2dd580>,\n",
       " <__main__.Card at 0x13eda2dd4c0>,\n",
       " <__main__.Card at 0x13eda2ddca0>,\n",
       " <__main__.Card at 0x13eda2f1e20>,\n",
       " <__main__.Card at 0x13eda2dd2e0>,\n",
       " <__main__.Card at 0x13eda2dd100>]"
      ]
     },
     "execution_count": 54,
     "metadata": {},
     "output_type": "execute_result"
    }
   ],
   "source": [
    "player1.all_cards"
   ]
  },
  {
   "cell_type": "code",
   "execution_count": 55,
   "id": "fe61f8ea",
   "metadata": {},
   "outputs": [
    {
     "name": "stdout",
     "output_type": "stream",
     "text": [
      "Shailya has 26 cards.\n"
     ]
    }
   ],
   "source": [
    "print(player1)"
   ]
  },
  {
   "cell_type": "code",
   "execution_count": null,
   "id": "8689afaa",
   "metadata": {},
   "outputs": [],
   "source": []
  },
  {
   "cell_type": "code",
   "execution_count": 56,
   "id": "f522bbee",
   "metadata": {},
   "outputs": [
    {
     "data": {
      "text/plain": [
       "[<__main__.Card at 0x13eda2dd400>,\n",
       " <__main__.Card at 0x13eda2dd3a0>,\n",
       " <__main__.Card at 0x13eda2f1d30>,\n",
       " <__main__.Card at 0x13eda2dd820>,\n",
       " <__main__.Card at 0x13eda2dda60>,\n",
       " <__main__.Card at 0x13eda2f1eb0>,\n",
       " <__main__.Card at 0x13eda2ddd60>,\n",
       " <__main__.Card at 0x13eda2dde80>,\n",
       " <__main__.Card at 0x13eda2dd520>,\n",
       " <__main__.Card at 0x13eda2dd7c0>,\n",
       " <__main__.Card at 0x13eda2dde20>,\n",
       " <__main__.Card at 0x13eda2dd880>,\n",
       " <__main__.Card at 0x13eda2dd760>,\n",
       " <__main__.Card at 0x13eda2ddc40>,\n",
       " <__main__.Card at 0x13eda2f1e80>,\n",
       " <__main__.Card at 0x13eda2f1fa0>,\n",
       " <__main__.Card at 0x13eda2ddbe0>,\n",
       " <__main__.Card at 0x13eda2dd220>,\n",
       " <__main__.Card at 0x13eda2dd8e0>,\n",
       " <__main__.Card at 0x13eda2f1f10>,\n",
       " <__main__.Card at 0x13eda2dd640>,\n",
       " <__main__.Card at 0x13eda2f1ca0>,\n",
       " <__main__.Card at 0x13eda2ddee0>,\n",
       " <__main__.Card at 0x13eda2f1c40>,\n",
       " <__main__.Card at 0x13eda2f1d90>,\n",
       " <__main__.Card at 0x13eda2dd160>]"
      ]
     },
     "execution_count": 56,
     "metadata": {},
     "output_type": "execute_result"
    }
   ],
   "source": [
    "player2.all_cards"
   ]
  },
  {
   "cell_type": "code",
   "execution_count": 57,
   "id": "3e6c500f",
   "metadata": {},
   "outputs": [
    {
     "name": "stdout",
     "output_type": "stream",
     "text": [
      "Khushbu has 26 cards.\n"
     ]
    }
   ],
   "source": [
    "print(player2)"
   ]
  },
  {
   "cell_type": "code",
   "execution_count": null,
   "id": "102aae83",
   "metadata": {},
   "outputs": [],
   "source": []
  },
  {
   "cell_type": "markdown",
   "id": "a420d022",
   "metadata": {},
   "source": [
    "#### Playing War:"
   ]
  },
  {
   "cell_type": "code",
   "execution_count": 58,
   "id": "c8843288",
   "metadata": {},
   "outputs": [
    {
     "name": "stdout",
     "output_type": "stream",
     "text": [
      "This is Round: 1\n",
      "This is Round: 2\n",
      "This is Round: 3\n",
      "This is Round: 4\n",
      "This is Round: 5\n",
      "This is Round: 6\n",
      "THERE'S WAR FELLAS!! Let's GO!\n",
      "This is Round: 7\n",
      "This is Round: 8\n",
      "This is Round: 9\n",
      "This is Round: 10\n",
      "This is Round: 11\n",
      "This is Round: 12\n",
      "This is Round: 13\n",
      "This is Round: 14\n",
      "This is Round: 15\n",
      "This is Round: 16\n",
      "This is Round: 17\n",
      "This is Round: 18\n",
      "This is Round: 19\n",
      "This is Round: 20\n",
      "This is Round: 21\n",
      "This is Round: 22\n",
      "This is Round: 23\n",
      "This is Round: 24\n",
      "This is Round: 25\n",
      "THERE'S WAR FELLAS!! Let's GO!\n",
      "This is Round: 26\n",
      "This is Round: 27\n",
      "This is Round: 28\n",
      "THERE'S WAR FELLAS!! Let's GO!\n",
      "This is Round: 29\n",
      "This is Round: 30\n",
      "This is Round: 31\n",
      "This is Round: 32\n",
      "This is Round: 33\n",
      "This is Round: 34\n",
      "This is Round: 35\n",
      "This is Round: 36\n",
      "This is Round: 37\n",
      "This is Round: 38\n",
      "This is Round: 39\n",
      "This is Round: 40\n",
      "This is Round: 41\n",
      "This is Round: 42\n",
      "This is Round: 43\n",
      "This is Round: 44\n",
      "This is Round: 45\n",
      "This is Round: 46\n",
      "This is Round: 47\n",
      "This is Round: 48\n",
      "This is Round: 49\n",
      "THERE'S WAR FELLAS!! Let's GO!\n",
      "This is Round: 50\n",
      "This is Round: 51\n",
      "This is Round: 52\n",
      "This is Round: 53\n",
      "This is Round: 54\n",
      "This is Round: 55\n",
      "THERE'S WAR FELLAS!! Let's GO!\n",
      "This is Round: 56\n",
      "THERE'S WAR FELLAS!! Let's GO!\n",
      "This is Round: 57\n",
      "This is Round: 58\n",
      "This is Round: 59\n",
      "This is Round: 60\n",
      "This is Round: 61\n",
      "This is Round: 62\n",
      "This is Round: 63\n",
      "This is Round: 64\n",
      "This is Round: 65\n",
      "This is Round: 66\n",
      "This is Round: 67\n",
      "This is Round: 68\n",
      "This is Round: 69\n",
      "This is Round: 70\n",
      "This is Round: 71\n",
      "This is Round: 72\n",
      "This is Round: 73\n",
      "This is Round: 74\n",
      "This is Round: 75\n",
      "This is Round: 76\n",
      "This is Round: 77\n",
      "This is Round: 78\n",
      "This is Round: 79\n",
      "This is Round: 80\n",
      "This is Round: 81\n",
      "This is Round: 82\n",
      "This is Round: 83\n",
      "This is Round: 84\n",
      "This is Round: 85\n",
      "THERE'S WAR FELLAS!! Let's GO!\n",
      "This is Round: 86\n",
      "This is Round: 87\n",
      "This is Round: 88\n",
      "This is Round: 89\n",
      "This is Round: 90\n",
      "This is Round: 91\n",
      "This is Round: 92\n",
      "This is Round: 93\n",
      "This is Round: 94\n",
      "This is Round: 95\n",
      "THERE'S WAR FELLAS!! Let's GO!\n",
      "This is Round: 96\n",
      "This is Round: 97\n",
      "This is Round: 98\n",
      "This is Round: 99\n",
      "This is Round: 100\n",
      "This is Round: 101\n",
      "This is Round: 102\n",
      "This is Round: 103\n",
      "This is Round: 104\n",
      "This is Round: 105\n",
      "This is Round: 106\n",
      "This is Round: 107\n",
      "This is Round: 108\n",
      "This is Round: 109\n",
      "This is Round: 110\n",
      "This is Round: 111\n",
      "This is Round: 112\n",
      "THERE'S WAR FELLAS!! Let's GO!\n",
      "This is Round: 113\n",
      "This is Round: 114\n",
      "This is Round: 115\n",
      "This is Round: 116\n",
      "This is Round: 117\n",
      "This is Round: 118\n",
      "This is Round: 119\n",
      "This is Round: 120\n",
      "This is Round: 121\n",
      "This is Round: 122\n",
      "This is Round: 123\n",
      "This is Round: 124\n",
      "This is Round: 125\n",
      "This is Round: 126\n",
      "This is Round: 127\n",
      "This is Round: 128\n",
      "This is Round: 129\n",
      "This is Round: 130\n",
      "THERE'S WAR FELLAS!! Let's GO!\n",
      "This is Round: 131\n",
      "This is Round: 132\n",
      "This is Round: 133\n",
      "THERE'S WAR FELLAS!! Let's GO!\n",
      "This is Round: 134\n",
      "This is Round: 135\n",
      "This is Round: 136\n",
      "This is Round: 137\n",
      "This is Round: 138\n",
      "This is Round: 139\n",
      "This is Round: 140\n",
      "THERE'S WAR FELLAS!! Let's GO!\n",
      "THERE'S WAR FELLAS!! Let's GO!\n",
      "This is Round: 141\n",
      "This is Round: 142\n",
      "This is Round: 143\n",
      "This is Round: 144\n",
      "This is Round: 145\n",
      "This is Round: 146\n",
      "This is Round: 147\n",
      "This is Round: 148\n",
      "This is Round: 149\n",
      "This is Round: 150\n",
      "THERE'S WAR FELLAS!! Let's GO!\n",
      "This is Round: 151\n",
      "This is Round: 152\n",
      "This is Round: 153\n",
      "This is Round: 154\n",
      "This is Round: 155\n",
      "This is Round: 156\n",
      "This is Round: 157\n",
      "This is Round: 158\n",
      "This is Round: 159\n",
      "This is Round: 160\n",
      "This is Round: 161\n",
      "This is Round: 162\n",
      "This is Round: 163\n",
      "THERE'S WAR FELLAS!! Let's GO!\n",
      "This is Round: 164\n",
      "This is Round: 165\n",
      "This is Round: 166\n",
      "This is Round: 167\n",
      "This is Round: 168\n",
      "This is Round: 169\n",
      "This is Round: 170\n",
      "This is Round: 171\n",
      "This is Round: 172\n",
      "This is Round: 173\n",
      "This is Round: 174\n",
      "This is Round: 175\n",
      "This is Round: 176\n",
      "This is Round: 177\n",
      "This is Round: 178\n",
      "This is Round: 179\n",
      "This is Round: 180\n",
      "This is Round: 181\n",
      "This is Round: 182\n",
      "This is Round: 183\n",
      "This is Round: 184\n",
      "THERE'S WAR FELLAS!! Let's GO!\n",
      "This is Round: 185\n",
      "THERE'S WAR FELLAS!! Let's GO!\n",
      "This is Round: 186\n",
      "This is Round: 187\n",
      "This is Round: 188\n",
      "THERE'S WAR FELLAS!! Let's GO!\n",
      "This is Round: 189\n",
      "This is Round: 190\n",
      "This is Round: 191\n",
      "This is Round: 192\n",
      "This is Round: 193\n",
      "This is Round: 194\n",
      "This is Round: 195\n",
      "This is Round: 196\n",
      "This is Round: 197\n",
      "This is Round: 198\n",
      "This is Round: 199\n",
      "This is Round: 200\n",
      "This is Round: 201\n",
      "This is Round: 202\n",
      "This is Round: 203\n",
      "This is Round: 204\n",
      "This is Round: 205\n",
      "THERE'S WAR FELLAS!! Let's GO!\n",
      "This is Round: 206\n",
      "Shailya is OUT OF TROOPS.\n",
      "\n",
      "Khushbu has Won!!\n"
     ]
    }
   ],
   "source": [
    "round_no = 0\n",
    "\n",
    "game_on= True\n",
    "\n",
    "while game_on:\n",
    "    \n",
    "    round_no += 1\n",
    "    print(f\"This is Round: {round_no}\")\n",
    "    \n",
    "    #To see if either player is out of Cards:\n",
    "    \n",
    "    if len(player1.all_cards) == 0:\n",
    "        print(f\"{player1.name} is OUT OF TROOPS.\\n\")\n",
    "        print(f\"{player2.name} has Won!!\")\n",
    "        game_on = False\n",
    "        break\n",
    "        \n",
    "    if len(player2.all_cards) == 0:\n",
    "        print(f\"{player2.name} is OUT OF TROOPS.\\n\")\n",
    "        print(f\"{player1.name} has Won!!\")\n",
    "        game_on = False\n",
    "        break\n",
    "        \n",
    "    # Start a new round and reset current cards \"on the table\"\n",
    "    player1_cards_on_table = []\n",
    "    player1_cards_on_table.append(player1.remove_card())\n",
    "    \n",
    "    player2_cards_on_table = []\n",
    "    player2_cards_on_table.append(player2.remove_card())\n",
    "    \n",
    "    war = True\n",
    "    \n",
    "    while war:\n",
    "        \n",
    "        if player1_cards_on_table[-1].value > player2_cards_on_table[-1].value:\n",
    "            \n",
    "            # Player One gets the cards\n",
    "            player1.add_cards(player1_cards_on_table)\n",
    "            player1.add_cards(player2_cards_on_table)\n",
    "            \n",
    "            # No Longer at War\n",
    "            war = False\n",
    "            \n",
    "        elif player1_cards_on_table[-1].value < player2_cards_on_table[-1].value:\n",
    "            \n",
    "            # Player Two gets the cards\n",
    "            player2.add_cards(player2_cards_on_table)\n",
    "            player2.add_cards(player1_cards_on_table)\n",
    "            \n",
    "            # No Longer at War\n",
    "            war = False\n",
    "            \n",
    "        else:\n",
    "            print(\"THERE'S WAR FELLAS!! Let's GO!\")\n",
    "            \n",
    "            # This occurs when the cards are equal.\n",
    "            # We'll grab another card each and continue the current war.\n",
    "            \n",
    "            # First check to see if player has enough cards\n",
    "            \n",
    "            # Check to see if a player is out of cards:\n",
    "            if len(player1.all_cards) < 3:\n",
    "                print(f\"{player1.name} has INSUFFICIENT TROOPS!!\\n\")\n",
    "                print(f\"{player2.name} WINS!\")\n",
    "                game_on = False\n",
    "                break\n",
    "                \n",
    "            elif len(player2.all_cards) < 3:\n",
    "                print(f\"{player2.name} has INSUFFICIENT TROOPS!!\\n\")\n",
    "                print(f\"{player1.name} WINS!\")\n",
    "                game_on = False\n",
    "                break\n",
    "            \n",
    "            # Otherwise, we're still at war, so we'll add the next cards\n",
    "            else:\n",
    "                for i in range(3):\n",
    "                    player1_cards_on_table.append(player1.remove_card())\n",
    "                    player2_cards_on_table.append(player2.remove_card())\n",
    "   "
   ]
  },
  {
   "cell_type": "code",
   "execution_count": null,
   "id": "bef5e212",
   "metadata": {},
   "outputs": [],
   "source": []
  },
  {
   "cell_type": "markdown",
   "id": "05dfd3ea",
   "metadata": {},
   "source": [
    " Links about Other Implementations of WAR Game:\n",
    " \n",
    "* https://www.reddit.com/r/learnpython/comments/7ay83p/war_card_game/\n",
    "* https://codereview.stackexchange.com/questions/131174/war-card-game-using-classes\n",
    "* https://gist.github.com/damianesteban/6896120\n",
    "* https://lethain.com/war-card-game-in-python/\n",
    "* https://hectorpefo.github.io/2017-09-13-Card-Wars/\n",
    "* https://www.wimpyprogrammer.com/the-statistics-of-war-the-card-game"
   ]
  }
 ],
 "metadata": {
  "kernelspec": {
   "display_name": "Python 3 (ipykernel)",
   "language": "python",
   "name": "python3"
  },
  "language_info": {
   "codemirror_mode": {
    "name": "ipython",
    "version": 3
   },
   "file_extension": ".py",
   "mimetype": "text/x-python",
   "name": "python",
   "nbconvert_exporter": "python",
   "pygments_lexer": "ipython3",
   "version": "3.8.12"
  }
 },
 "nbformat": 4,
 "nbformat_minor": 5
}
