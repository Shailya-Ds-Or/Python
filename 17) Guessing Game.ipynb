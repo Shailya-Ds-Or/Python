{
 "cells": [
  {
   "cell_type": "markdown",
   "metadata": {},
   "source": [
    "# Guessing Game Challenge\n",
    "\n",
    "Let's use `while` loops to create a guessing game.\n",
    "\n",
    "The Challenge:\n",
    "\n",
    "Write a program that picks a random integer from 1 to 100, and has players guess the number. The rules are:\n",
    "\n",
    "1. If a player's guess is less than 1 or greater than 100, say \"OUT OF BOUNDS\"\n",
    "2. On a player's first turn, if their guess is\n",
    " * within 10 of the number, return \"WARM!\"\n",
    " * further than 10 away from the number, return \"COLD!\"\n",
    "3. On all subsequent turns, if a guess is \n",
    " * closer to the number than the previous guess return \"WARMER!\"\n",
    " * farther from the number than the previous guess, return \"COLDER!\"\n",
    "4. When the player's guess equals the number, tell them they've guessed correctly *and* how many guesses it took!\n",
    "\n",
    "You can try this from scratch, or follow the steps outlined below. A separate Solution notebook has been provided. Good luck!\n"
   ]
  },
  {
   "cell_type": "markdown",
   "metadata": {},
   "source": [
    "That's it! You've just programmed your first game!\n",
    "\n",
    "In the next section we'll learn how to turn some of these repetitive actions into *functions* that can be called whenever we need them."
   ]
  },
  {
   "cell_type": "code",
   "execution_count": 33,
   "metadata": {},
   "outputs": [],
   "source": [
    "import random"
   ]
  },
  {
   "cell_type": "code",
   "execution_count": 34,
   "metadata": {},
   "outputs": [],
   "source": [
    "Number = random.randint(1,101)"
   ]
  },
  {
   "cell_type": "code",
   "execution_count": 35,
   "metadata": {},
   "outputs": [
    {
     "name": "stdout",
     "output_type": "stream",
     "text": [
      "Hello, and welcome to Guessing Game.\n",
      "I will have chosen a  Number from 1 to 100, and you have to guess the Number in as less guesses as possible.\n",
      "Here are some Rules!\n",
      "If your Guess is within 10 of the Number, I will say 'Warm!'\n",
      "If your Guess is further away than 10 of the Number, I will say 'Cold!'\n",
      "If your subsequent Guesses are closer to the Number than before, I will say 'Warmer!'\n",
      "If your subsequent Guesses are further from the Number than before, I will say 'Colder!'\n",
      "When you reach the Correct Number, I will say 'You have Guessed the Number Correctly' and the Number of Guesses it took you.\n"
     ]
    }
   ],
   "source": [
    "print(\"Hello, and welcome to Guessing Game.\")\n",
    "print(\"I will have chosen a  Number from 1 to 100, and you have to guess the Number in as less guesses as possible.\")\n",
    "print(\"Here are some Rules!\")\n",
    "print(\"If your Guess is within 10 of the Number, I will say 'Warm!'\")\n",
    "print(\"If your Guess is further away than 10 of the Number, I will say 'Cold!'\")\n",
    "print(\"If your subsequent Guesses are closer to the Number than before, I will say 'Warmer!'\")\n",
    "print(\"If your subsequent Guesses are further from the Number than before, I will say 'Colder!'\")\n",
    "print(\"When you reach the Correct Number, I will say 'You have Guessed the Number Correctly' and the Number of Guesses it took you.\")"
   ]
  },
  {
   "cell_type": "code",
   "execution_count": 36,
   "metadata": {},
   "outputs": [
    {
     "name": "stdout",
     "output_type": "stream",
     "text": [
      "Guess a number from 1 to 100!\n",
      "45\n",
      "Cold!\n",
      "Guess a number from 1 to 100!\n",
      "55\n",
      "Colder\n",
      "Guess a number from 1 to 100!\n",
      "40\n",
      "Warmer\n",
      "Guess a number from 1 to 100!\n",
      "35\n",
      "Warmer\n",
      "Guess a number from 1 to 100!\n",
      "30\n",
      "Warmer\n",
      "Guess a number from 1 to 100!\n",
      "25\n",
      "Warmer\n",
      "Guess a number from 1 to 100!\n",
      "200\n",
      "Guess OUT OF BOUNDS!\n",
      "Guess a number from 1 to 100!\n",
      "20\n",
      "Warmer\n",
      "Guess a number from 1 to 100!\n",
      "15\n",
      "Colder\n",
      "Guess a number from 1 to 100!\n",
      "18\n",
      "Warmer\n",
      "Guess a number from 1 to 100!\n",
      "19\n",
      "You have Guessed the Number Correctly in 10 Guesses! \n"
     ]
    }
   ],
   "source": [
    "Guesses = [0]\n",
    "while True:\n",
    "    Guess = int(input(\"Guess a number from 1 to 100!\\n\"))\n",
    "    if (Guess < 1) or (Guess >100):\n",
    "        print(\"Guess OUT OF BOUNDS!\")\n",
    "        continue\n",
    "\n",
    "    if Guess == Number:\n",
    "        print(f\"You have Guessed the Number Correctly in {len(Guesses)} Guesses! \")\n",
    "        break\n",
    "        \n",
    "    Guesses.append(Guess)\n",
    "    \n",
    "    if (Guesses[-2]):\n",
    "        if abs(Guess - Number) < abs(Guesses[-2]-Number):\n",
    "            print(\"Warmer\")\n",
    "        else:\n",
    "            print(\"Colder\")\n",
    "         \n",
    "    else:\n",
    "        if abs(Guess - Number) < 10:\n",
    "            print(\"Warm!\")\n",
    "        else:\n",
    "            print(\"Cold!\")"
   ]
  }
 ],
 "metadata": {
  "kernelspec": {
   "display_name": "Python 3 (ipykernel)",
   "language": "python",
   "name": "python3"
  },
  "language_info": {
   "codemirror_mode": {
    "name": "ipython",
    "version": 3
   },
   "file_extension": ".py",
   "mimetype": "text/x-python",
   "name": "python",
   "nbconvert_exporter": "python",
   "pygments_lexer": "ipython3",
   "version": "3.8.12"
  }
 },
 "nbformat": 4,
 "nbformat_minor": 2
}
