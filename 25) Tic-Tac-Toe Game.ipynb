{
 "cells": [
  {
   "cell_type": "markdown",
   "metadata": {},
   "source": [
    "## Tic-Tac-Toe"
   ]
  },
  {
   "cell_type": "markdown",
   "metadata": {},
   "source": [
    "Assignment: Create a Tic Tac Toe game.\n",
    "\n",
    "Here are the requirements:\n",
    "\n",
    "* 2 players should be able to play the game (both sitting at the same computer)\n",
    "* The board should be printed out every time a player makes a move\n",
    "* You should be able to accept input of the player position and then place a symbol on the board"
   ]
  },
  {
   "cell_type": "code",
   "execution_count": 1,
   "metadata": {},
   "outputs": [],
   "source": [
    "from IPython.display import clear_output\n",
    "import random"
   ]
  },
  {
   "cell_type": "code",
   "execution_count": 2,
   "metadata": {},
   "outputs": [],
   "source": [
    "def display_board(board):\n",
    "    \n",
    "    clear_output()\n",
    "    print('   |   |')\n",
    "    print(' ' + board[1] + ' | ' + board[2] + ' | ' + board[3])\n",
    "    print('   |   |')\n",
    "    print('-----------')\n",
    "    print('   |   |')\n",
    "    print(' ' + board[4] + ' | ' + board[5] + ' | ' + board[6])\n",
    "    print('   |   |')\n",
    "    print('-----------')\n",
    "    print('   |   |')\n",
    "    print(' ' + board[7] + ' | ' + board[8] + ' | ' + board[9])\n",
    "    print('   |   |')"
   ]
  },
  {
   "cell_type": "code",
   "execution_count": null,
   "metadata": {},
   "outputs": [],
   "source": []
  },
  {
   "cell_type": "code",
   "execution_count": 3,
   "metadata": {},
   "outputs": [],
   "source": [
    "def marker_choice():\n",
    "    \n",
    "    choice= \"temp\"\n",
    "    \n",
    "    while choice != \"X\" and choice != \"O\":\n",
    "        choice = input(\"Player1, please chose X or O:\").upper()\n",
    "        \n",
    "        if choice != \"X\" or choice != \"O\":\n",
    "            print(\"Please chose X or O.\")\n",
    "            \n",
    "    if choice == \"X\":\n",
    "        return (\"X\",\"O\")\n",
    "    else:\n",
    "        return (\"O\",\"X\")"
   ]
  },
  {
   "cell_type": "code",
   "execution_count": null,
   "metadata": {},
   "outputs": [],
   "source": []
  },
  {
   "cell_type": "code",
   "execution_count": 4,
   "metadata": {},
   "outputs": [],
   "source": [
    "def whose_turn():\n",
    "    \n",
    "    if random.randint(0,1) == 0:\n",
    "        return \"Player1\"\n",
    "    else:\n",
    "        return \"Player2\""
   ]
  },
  {
   "cell_type": "code",
   "execution_count": null,
   "metadata": {},
   "outputs": [],
   "source": []
  },
  {
   "cell_type": "code",
   "execution_count": 5,
   "metadata": {},
   "outputs": [],
   "source": [
    "def player_choice(board):\n",
    "    \n",
    "    choice= \"temp\"\n",
    "    in_range = False\n",
    "    free_space = False\n",
    "    \n",
    "    while choice.isdigit() == False or in_range == False or free_space == False:\n",
    "        \n",
    "        choice = input(\"Please select a number(1-9) on which you want to put your mark:\")\n",
    "        \n",
    "        if choice.isdigit() == False:\n",
    "            print(\"Please enter a Valid Number:\")\n",
    "        else: \n",
    "            if int(choice) in range(1,10):\n",
    "                in_range = True\n",
    "                \n",
    "                if board[int(choice)] == \"X\" or board[int(choice)] == \"O\":\n",
    "                    print(\"The position you chose is not free. Please, chose again.\")\n",
    "                else:\n",
    "                    free_space = True\n",
    "\n",
    "            else:\n",
    "                print(\"Please chose a number from Given Range(1-9):\")    \n",
    "                \n",
    "                \n",
    "    return int(choice)"
   ]
  },
  {
   "cell_type": "code",
   "execution_count": null,
   "metadata": {},
   "outputs": [],
   "source": []
  },
  {
   "cell_type": "code",
   "execution_count": 6,
   "metadata": {},
   "outputs": [],
   "source": [
    "def board_update(board, marker, position):\n",
    "    board[position] = marker"
   ]
  },
  {
   "cell_type": "code",
   "execution_count": null,
   "metadata": {},
   "outputs": [],
   "source": []
  },
  {
   "cell_type": "code",
   "execution_count": 7,
   "metadata": {},
   "outputs": [],
   "source": [
    "def win_check(board, marker):\n",
    "    \n",
    "    return ((board[1] == board[2] == board[3] == marker) or (board[4] == board[5] == board[6] == marker) or\n",
    "           (board[7] == board[8] == board[9] == marker) or (board[1] == board[4] == board[7] == marker) or\n",
    "           (board[2] == board[5] == board[8] == marker) or (board[3] == board[6] == board[9] == marker) or\n",
    "           (board[1] == board[5] == board[9] == marker) or (board[3] == board[5] == board[7] == marker))"
   ]
  },
  {
   "cell_type": "code",
   "execution_count": null,
   "metadata": {},
   "outputs": [],
   "source": []
  },
  {
   "cell_type": "code",
   "execution_count": 8,
   "metadata": {},
   "outputs": [],
   "source": [
    "def full_check(board):\n",
    "    for i in range(1,10):\n",
    "        if board[i] != \"X\" and board[i] != \"O\":\n",
    "                return False\n",
    "    \n",
    "    return True"
   ]
  },
  {
   "cell_type": "code",
   "execution_count": null,
   "metadata": {},
   "outputs": [],
   "source": []
  },
  {
   "cell_type": "code",
   "execution_count": 10,
   "metadata": {},
   "outputs": [
    {
     "name": "stdout",
     "output_type": "stream",
     "text": [
      "   |   |\n",
      " O | X | O\n",
      "   |   |\n",
      "-----------\n",
      "   |   |\n",
      " X | O | X\n",
      "   |   |\n",
      "-----------\n",
      "   |   |\n",
      " 7 | 8 | O\n",
      "   |   |\n",
      "CONGRATULATIONS!! Player2 has Won The Game!\n",
      "Do you Want to play again?? Enter Y or N:n\n",
      "\n",
      "See you soon!!\n"
     ]
    }
   ],
   "source": [
    "print(\"Welcome to TIC TAC TOE:\\n\")\n",
    "\n",
    "while True:\n",
    "    game_board = [\"#\",\"1\",\"2\",\"3\",\"4\",\"5\",\"6\",\"7\",\"8\",\"9\"]\n",
    "    \n",
    "    Player1_Mark, Player2_Mark = marker_choice()\n",
    "\n",
    "    turn = whose_turn()\n",
    "    print(turn + \" will make a move first\\n\")\n",
    "    \n",
    "    ready_to_play = input(\"Are you ready to Play??? Enter Y or N:\").upper()\n",
    "    \n",
    "    if ready_to_play == \"Y\":\n",
    "        game_on = True\n",
    "    else:\n",
    "        game_on = False\n",
    "        print(\"See you soon!!\")\n",
    "        break\n",
    "    \n",
    "    while game_on:\n",
    "        if turn == \"Player1\":\n",
    "            display_board(game_board)\n",
    "            position = player_choice(game_board)\n",
    "            board_update(game_board, Player1_Mark, position)\n",
    "        \n",
    "            if win_check(game_board, Player1_Mark):\n",
    "                display_board(game_board)\n",
    "                print(\"CONGRATULATIONS!! Player1 has Won The Game!\")\n",
    "                break\n",
    "            \n",
    "            elif full_check(game_board):\n",
    "                display_board(game_board)\n",
    "                print(\"Game TIED!!!\")\n",
    "                break\n",
    "        \n",
    "            else:\n",
    "                turn = \"Player2\"\n",
    "            \n",
    "        else:\n",
    "            display_board(game_board)\n",
    "            position = player_choice(game_board)\n",
    "            board_update(game_board, Player2_Mark, position)\n",
    "        \n",
    "            if win_check(game_board, Player2_Mark):\n",
    "                display_board(game_board)\n",
    "                print(\"CONGRATULATIONS!! Player2 has Won The Game!\")\n",
    "                break\n",
    "            \n",
    "            elif full_check(game_board):\n",
    "                display_board(game_board)\n",
    "                print(\"Game TIED!!!\")\n",
    "                break\n",
    "        \n",
    "            else:\n",
    "                turn = \"Player1\"\n",
    "                \n",
    "    replay = input(\"Do you Want to play again?? Enter Y or N:\").upper()\n",
    "    \n",
    "    if replay == \"Y\":\n",
    "        continue\n",
    "    else:\n",
    "        print(\"\\nSee you soon!!\")\n",
    "        break\n"
   ]
  }
 ],
 "metadata": {
  "kernelspec": {
   "display_name": "Python 3 (ipykernel)",
   "language": "python",
   "name": "python3"
  },
  "language_info": {
   "codemirror_mode": {
    "name": "ipython",
    "version": 3
   },
   "file_extension": ".py",
   "mimetype": "text/x-python",
   "name": "python",
   "nbconvert_exporter": "python",
   "pygments_lexer": "ipython3",
   "version": "3.8.12"
  }
 },
 "nbformat": 4,
 "nbformat_minor": 1
}
